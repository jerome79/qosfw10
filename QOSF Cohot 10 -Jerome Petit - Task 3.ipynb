{
 "cells": [
  {
   "cell_type": "markdown",
   "id": "cfc89bf3",
   "metadata": {},
   "source": [
    "# QOSF Cohort 10\n",
    "## Task 3"
   ]
  },
  {
   "cell_type": "code",
   "execution_count": 73,
   "id": "63649666",
   "metadata": {},
   "outputs": [
    {
     "name": "stdout",
     "output_type": "stream",
     "text": [
      "Requirement already satisfied: docplex in c:\\users\\jerom\\appdata\\roaming\\python\\python39\\site-packages (2.20.204)\n",
      "Requirement already satisfied: requests in c:\\users\\jerom\\appdata\\local\\programs\\python\\python39\\lib\\site-packages (from docplex) (2.27.1)\n",
      "Requirement already satisfied: six in c:\\users\\jerom\\appdata\\local\\programs\\python\\python39\\lib\\site-packages (from docplex) (1.16.0)\n",
      "Requirement already satisfied: urllib3<1.27,>=1.21.1 in c:\\users\\jerom\\appdata\\local\\programs\\python\\python39\\lib\\site-packages (from requests->docplex) (1.26.9)\n",
      "Requirement already satisfied: certifi>=2017.4.17 in c:\\users\\jerom\\appdata\\local\\programs\\python\\python39\\lib\\site-packages (from requests->docplex) (2021.5.30)\n",
      "Requirement already satisfied: charset-normalizer~=2.0.0 in c:\\users\\jerom\\appdata\\local\\programs\\python\\python39\\lib\\site-packages (from requests->docplex) (2.0.12)\n",
      "Requirement already satisfied: idna<4,>=2.5 in c:\\users\\jerom\\appdata\\local\\programs\\python\\python39\\lib\\site-packages (from requests->docplex) (2.10)\n"
     ]
    },
    {
     "name": "stderr",
     "output_type": "stream",
     "text": [
      "WARNING: Ignoring invalid distribution -iskit-terra (c:\\users\\jerom\\appdata\\roaming\\python\\python39\\site-packages)\n",
      "WARNING: Ignoring invalid distribution -iskit-terra (c:\\users\\jerom\\appdata\\roaming\\python\\python39\\site-packages)\n",
      "WARNING: Ignoring invalid distribution -rotobuf (c:\\users\\jerom\\appdata\\local\\programs\\python\\python39\\lib\\site-packages)\n",
      "WARNING: Ignoring invalid distribution -iskit-terra (c:\\users\\jerom\\appdata\\roaming\\python\\python39\\site-packages)\n",
      "WARNING: Error parsing requirements for numpy: [Errno 2] No such file or directory: 'c:\\\\users\\\\jerom\\\\appdata\\\\local\\\\programs\\\\python\\\\python39\\\\lib\\\\site-packages\\\\numpy-1.25.2.dist-info\\\\METADATA'\n",
      "WARNING: Ignoring invalid distribution -rotobuf (c:\\users\\jerom\\appdata\\local\\programs\\python\\python39\\lib\\site-packages)\n",
      "WARNING: Ignoring invalid distribution -iskit-terra (c:\\users\\jerom\\appdata\\roaming\\python\\python39\\site-packages)\n",
      "WARNING: Ignoring invalid distribution -iskit-terra (c:\\users\\jerom\\appdata\\roaming\\python\\python39\\site-packages)\n",
      "WARNING: Ignoring invalid distribution -iskit-terra (c:\\users\\jerom\\appdata\\roaming\\python\\python39\\site-packages)\n",
      "\n",
      "[notice] A new release of pip is available: 23.2.1 -> 24.3.1\n",
      "[notice] To update, run: python.exe -m pip install --upgrade pip\n"
     ]
    },
    {
     "name": "stdout",
     "output_type": "stream",
     "text": [
      "Requirement already satisfied: dwave-ocean-sdk in c:\\users\\jerom\\appdata\\local\\programs\\python\\python39\\lib\\site-packages (3.3.0)\n",
      "Requirement already satisfied: dimod==0.9.13 in c:\\users\\jerom\\appdata\\local\\programs\\python\\python39\\lib\\site-packages (from dwave-ocean-sdk) (0.9.13)\n",
      "Requirement already satisfied: dwave-cloud-client==0.8.4 in c:\\users\\jerom\\appdata\\local\\programs\\python\\python39\\lib\\site-packages (from dwave-ocean-sdk) (0.8.4)\n",
      "Requirement already satisfied: dwave-greedy==0.1.2 in c:\\users\\jerom\\appdata\\local\\programs\\python\\python39\\lib\\site-packages (from dwave-ocean-sdk) (0.1.2)\n",
      "Requirement already satisfied: dwave-hybrid==0.6.1 in c:\\users\\jerom\\appdata\\local\\programs\\python\\python39\\lib\\site-packages (from dwave-ocean-sdk) (0.6.1)\n",
      "Requirement already satisfied: dwave-inspector==0.2.5 in c:\\users\\jerom\\appdata\\local\\programs\\python\\python39\\lib\\site-packages (from dwave-ocean-sdk) (0.2.5)\n",
      "Requirement already satisfied: dwave-neal==0.5.7 in c:\\users\\jerom\\appdata\\local\\programs\\python\\python39\\lib\\site-packages (from dwave-ocean-sdk) (0.5.7)\n",
      "Requirement already satisfied: dwave-networkx==0.8.8 in c:\\users\\jerom\\appdata\\local\\programs\\python\\python39\\lib\\site-packages (from dwave-ocean-sdk) (0.8.8)\n",
      "Requirement already satisfied: dwave-qbsolv==0.3.2 in c:\\users\\jerom\\appdata\\local\\programs\\python\\python39\\lib\\site-packages (from dwave-ocean-sdk) (0.3.2)\n",
      "Requirement already satisfied: dwave-system==1.4.0 in c:\\users\\jerom\\appdata\\local\\programs\\python\\python39\\lib\\site-packages (from dwave-ocean-sdk) (1.4.0)\n",
      "Requirement already satisfied: dwave-tabu==0.3.1 in c:\\users\\jerom\\appdata\\local\\programs\\python\\python39\\lib\\site-packages (from dwave-ocean-sdk) (0.3.1)\n",
      "Requirement already satisfied: dwavebinarycsp==0.1.2 in c:\\users\\jerom\\appdata\\local\\programs\\python\\python39\\lib\\site-packages (from dwave-ocean-sdk) (0.1.2)\n",
      "Requirement already satisfied: minorminer==0.2.5 in c:\\users\\jerom\\appdata\\local\\programs\\python\\python39\\lib\\site-packages (from dwave-ocean-sdk) (0.2.5)\n",
      "Requirement already satisfied: penaltymodel-cache==0.4.3 in c:\\users\\jerom\\appdata\\local\\programs\\python\\python39\\lib\\site-packages (from dwave-ocean-sdk) (0.4.3)\n",
      "Requirement already satisfied: penaltymodel-lp==0.1.4 in c:\\users\\jerom\\appdata\\local\\programs\\python\\python39\\lib\\site-packages (from dwave-ocean-sdk) (0.1.4)\n",
      "Requirement already satisfied: penaltymodel==0.16.4 in c:\\users\\jerom\\appdata\\local\\programs\\python\\python39\\lib\\site-packages (from dwave-ocean-sdk) (0.16.4)\n",
      "Requirement already satisfied: pyqubo==1.0.10 in c:\\users\\jerom\\appdata\\local\\programs\\python\\python39\\lib\\site-packages (from dwave-ocean-sdk) (1.0.10)\n",
      "Requirement already satisfied: penaltymodel-mip==0.2.4 in c:\\users\\jerom\\appdata\\local\\programs\\python\\python39\\lib\\site-packages (from dwave-ocean-sdk) (0.2.4)\n",
      "Requirement already satisfied: numpy<2.0.0,>=1.17.3 in c:\\users\\jerom\\appdata\\local\\programs\\python\\python39\\lib\\site-packages (from dimod==0.9.13->dwave-ocean-sdk) (1.25.2)\n",
      "Requirement already satisfied: requests[socks]>=2.18 in c:\\users\\jerom\\appdata\\local\\programs\\python\\python39\\lib\\site-packages (from dwave-cloud-client==0.8.4->dwave-ocean-sdk) (2.27.1)\n",
      "Requirement already satisfied: homebase>=1.0 in c:\\users\\jerom\\appdata\\local\\programs\\python\\python39\\lib\\site-packages (from dwave-cloud-client==0.8.4->dwave-ocean-sdk) (1.0.1)\n",
      "Requirement already satisfied: click>=7.0 in c:\\users\\jerom\\appdata\\local\\programs\\python\\python39\\lib\\site-packages (from dwave-cloud-client==0.8.4->dwave-ocean-sdk) (8.1.3)\n",
      "Requirement already satisfied: python-dateutil>=2.7 in c:\\users\\jerom\\appdata\\local\\programs\\python\\python39\\lib\\site-packages (from dwave-cloud-client==0.8.4->dwave-ocean-sdk) (2.8.2)\n",
      "Requirement already satisfied: plucky>=0.4.3 in c:\\users\\jerom\\appdata\\local\\programs\\python\\python39\\lib\\site-packages (from dwave-cloud-client==0.8.4->dwave-ocean-sdk) (0.4.3)\n",
      "Requirement already satisfied: networkx in c:\\users\\jerom\\appdata\\local\\programs\\python\\python39\\lib\\site-packages (from dwave-hybrid==0.6.1->dwave-ocean-sdk) (2.8.2)\n",
      "Requirement already satisfied: Flask>=1.1.1 in c:\\users\\jerom\\appdata\\local\\programs\\python\\python39\\lib\\site-packages (from dwave-inspector==0.2.5->dwave-ocean-sdk) (2.1.2)\n",
      "Requirement already satisfied: decorator<5.0.0,>=4.1.0 in c:\\users\\jerom\\appdata\\local\\programs\\python\\python39\\lib\\site-packages (from dwave-networkx==0.8.8->dwave-ocean-sdk) (4.4.2)\n",
      "Requirement already satisfied: six<2.0.0,>=1.11.0 in c:\\users\\jerom\\appdata\\local\\programs\\python\\python39\\lib\\site-packages (from dwavebinarycsp==0.1.2->dwave-ocean-sdk) (1.16.0)\n",
      "Requirement already satisfied: scipy in c:\\users\\jerom\\appdata\\roaming\\python\\python39\\site-packages (from minorminer==0.2.5->dwave-ocean-sdk) (1.6.1)\n",
      "Requirement already satisfied: fasteners in c:\\users\\jerom\\appdata\\local\\programs\\python\\python39\\lib\\site-packages (from minorminer==0.2.5->dwave-ocean-sdk) (0.17.3)\n",
      "Requirement already satisfied: ortools<9.0.0,>=6.6.4659 in c:\\users\\jerom\\appdata\\local\\programs\\python\\python39\\lib\\site-packages (from penaltymodel-mip==0.2.4->dwave-ocean-sdk) (8.2.8710)\n",
      "Collecting numpy<2.0.0,>=1.17.3 (from dimod==0.9.13->dwave-ocean-sdk)\n",
      "  Obtaining dependency information for numpy<2.0.0,>=1.17.3 from https://files.pythonhosted.org/packages/bc/40/d6f7ba9ce5406b578e538325828ea43849a3dfd8db63d1147a257d19c8d1/numpy-1.19.5-cp39-cp39-win_amd64.whl.metadata\n",
      "  Using cached numpy-1.19.5-cp39-cp39-win_amd64.whl.metadata (2.0 kB)\n",
      "Requirement already satisfied: Deprecated>=1.2.10 in c:\\users\\jerom\\appdata\\local\\programs\\python\\python39\\lib\\site-packages (from pyqubo==1.0.10->dwave-ocean-sdk) (1.2.13)\n",
      "Requirement already satisfied: colorama in c:\\users\\jerom\\appdata\\local\\programs\\python\\python39\\lib\\site-packages (from click>=7.0->dwave-cloud-client==0.8.4->dwave-ocean-sdk) (0.4.4)\n",
      "Requirement already satisfied: wrapt<2,>=1.10 in c:\\users\\jerom\\appdata\\local\\programs\\python\\python39\\lib\\site-packages (from Deprecated>=1.2.10->pyqubo==1.0.10->dwave-ocean-sdk) (1.14.1)\n",
      "Requirement already satisfied: Werkzeug>=2.0 in c:\\users\\jerom\\appdata\\local\\programs\\python\\python39\\lib\\site-packages (from Flask>=1.1.1->dwave-inspector==0.2.5->dwave-ocean-sdk) (2.1.2)\n",
      "Requirement already satisfied: Jinja2>=3.0 in c:\\users\\jerom\\appdata\\local\\programs\\python\\python39\\lib\\site-packages (from Flask>=1.1.1->dwave-inspector==0.2.5->dwave-ocean-sdk) (3.1.2)\n",
      "Requirement already satisfied: itsdangerous>=2.0 in c:\\users\\jerom\\appdata\\local\\programs\\python\\python39\\lib\\site-packages (from Flask>=1.1.1->dwave-inspector==0.2.5->dwave-ocean-sdk) (2.1.2)\n",
      "Requirement already satisfied: importlib-metadata>=3.6.0 in c:\\users\\jerom\\appdata\\local\\programs\\python\\python39\\lib\\site-packages (from Flask>=1.1.1->dwave-inspector==0.2.5->dwave-ocean-sdk) (4.11.4)\n",
      "Requirement already satisfied: protobuf>=3.14.0 in c:\\users\\jerom\\appdata\\local\\programs\\python\\python39\\lib\\site-packages (from ortools<9.0.0,>=6.6.4659->penaltymodel-mip==0.2.4->dwave-ocean-sdk) (3.19.6)\n",
      "Requirement already satisfied: absl-py>=0.11 in c:\\users\\jerom\\appdata\\local\\programs\\python\\python39\\lib\\site-packages (from ortools<9.0.0,>=6.6.4659->penaltymodel-mip==0.2.4->dwave-ocean-sdk) (1.0.0)\n",
      "Requirement already satisfied: urllib3<1.27,>=1.21.1 in c:\\users\\jerom\\appdata\\local\\programs\\python\\python39\\lib\\site-packages (from requests[socks]>=2.18->dwave-cloud-client==0.8.4->dwave-ocean-sdk) (1.26.9)\n",
      "Requirement already satisfied: certifi>=2017.4.17 in c:\\users\\jerom\\appdata\\local\\programs\\python\\python39\\lib\\site-packages (from requests[socks]>=2.18->dwave-cloud-client==0.8.4->dwave-ocean-sdk) (2021.5.30)\n",
      "Requirement already satisfied: charset-normalizer~=2.0.0 in c:\\users\\jerom\\appdata\\local\\programs\\python\\python39\\lib\\site-packages (from requests[socks]>=2.18->dwave-cloud-client==0.8.4->dwave-ocean-sdk) (2.0.12)\n",
      "Requirement already satisfied: idna<4,>=2.5 in c:\\users\\jerom\\appdata\\local\\programs\\python\\python39\\lib\\site-packages (from requests[socks]>=2.18->dwave-cloud-client==0.8.4->dwave-ocean-sdk) (2.10)\n",
      "Requirement already satisfied: PySocks!=1.5.7,>=1.5.6 in c:\\users\\jerom\\appdata\\local\\programs\\python\\python39\\lib\\site-packages (from requests[socks]>=2.18->dwave-cloud-client==0.8.4->dwave-ocean-sdk) (1.7.1)\n",
      "Requirement already satisfied: zipp>=0.5 in c:\\users\\jerom\\appdata\\local\\programs\\python\\python39\\lib\\site-packages (from importlib-metadata>=3.6.0->Flask>=1.1.1->dwave-inspector==0.2.5->dwave-ocean-sdk) (3.8.0)\n",
      "Requirement already satisfied: MarkupSafe>=2.0 in c:\\users\\jerom\\appdata\\roaming\\python\\python39\\site-packages (from Jinja2>=3.0->Flask>=1.1.1->dwave-inspector==0.2.5->dwave-ocean-sdk) (2.0.1)\n",
      "Using cached numpy-1.19.5-cp39-cp39-win_amd64.whl (13.3 MB)\n",
      "Installing collected packages: numpy\n",
      "  Attempting uninstall: numpy\n",
      "    Found existing installation: numpy 1.25.2\n"
     ]
    },
    {
     "name": "stderr",
     "output_type": "stream",
     "text": [
      "WARNING: Ignoring invalid distribution -iskit-terra (c:\\users\\jerom\\appdata\\roaming\\python\\python39\\site-packages)\n",
      "WARNING: Ignoring invalid distribution -iskit-terra (c:\\users\\jerom\\appdata\\roaming\\python\\python39\\site-packages)\n",
      "WARNING: Ignoring invalid distribution -rotobuf (c:\\users\\jerom\\appdata\\local\\programs\\python\\python39\\lib\\site-packages)\n",
      "WARNING: Ignoring invalid distribution -iskit-terra (c:\\users\\jerom\\appdata\\roaming\\python\\python39\\site-packages)\n",
      "WARNING: Error parsing requirements for numpy: [Errno 2] No such file or directory: 'c:\\\\users\\\\jerom\\\\appdata\\\\local\\\\programs\\\\python\\\\python39\\\\lib\\\\site-packages\\\\numpy-1.25.2.dist-info\\\\METADATA'\n",
      "WARNING: Ignoring invalid distribution -rotobuf (c:\\users\\jerom\\appdata\\local\\programs\\python\\python39\\lib\\site-packages)\n",
      "    WARNING: Ignoring invalid distribution -iskit-terra (c:\\users\\jerom\\appdata\\roaming\\python\\python39\\site-packages)\n",
      "    WARNING: No metadata found in c:\\users\\jerom\\appdata\\local\\programs\\python\\python39\\lib\\site-packages\n",
      "ERROR: Cannot uninstall numpy 1.25.2, RECORD file not found. You might be able to recover from this via: 'pip install --force-reinstall --no-deps numpy==1.25.2'.\n",
      "WARNING: Ignoring invalid distribution -iskit-terra (c:\\users\\jerom\\appdata\\roaming\\python\\python39\\site-packages)\n",
      "WARNING: Ignoring invalid distribution -iskit-terra (c:\\users\\jerom\\appdata\\roaming\\python\\python39\\site-packages)\n",
      "WARNING: Ignoring invalid distribution -iskit-terra (c:\\users\\jerom\\appdata\\roaming\\python\\python39\\site-packages)\n",
      "\n",
      "[notice] A new release of pip is available: 23.2.1 -> 24.3.1\n",
      "[notice] To update, run: python.exe -m pip install --upgrade pip\n"
     ]
    },
    {
     "name": "stdout",
     "output_type": "stream",
     "text": [
      "Requirement already satisfied: qiskit in c:\\users\\jerom\\appdata\\local\\programs\\python\\python39\\lib\\site-packages (0.44.0)\n",
      "Requirement already satisfied: qiskit-aer in c:\\users\\jerom\\appdata\\roaming\\python\\python39\\site-packages (0.8.1)\n",
      "Requirement already satisfied: qiskit-machine-learning in c:\\users\\jerom\\appdata\\local\\programs\\python\\python39\\lib\\site-packages (0.4.0)\n",
      "Requirement already satisfied: qiskit-terra==0.25.0 in c:\\users\\jerom\\appdata\\local\\programs\\python\\python39\\lib\\site-packages (from qiskit) (0.25.0)\n",
      "Requirement already satisfied: rustworkx>=0.13.0 in c:\\users\\jerom\\appdata\\local\\programs\\python\\python39\\lib\\site-packages (from qiskit-terra==0.25.0->qiskit) (0.13.1)\n",
      "Requirement already satisfied: numpy>=1.17 in c:\\users\\jerom\\appdata\\local\\programs\\python\\python39\\lib\\site-packages (from qiskit-terra==0.25.0->qiskit) (1.25.2)\n",
      "Requirement already satisfied: ply>=3.10 in c:\\users\\jerom\\appdata\\local\\programs\\python\\python39\\lib\\site-packages (from qiskit-terra==0.25.0->qiskit) (3.11)\n",
      "Requirement already satisfied: psutil>=5 in c:\\users\\jerom\\appdata\\local\\programs\\python\\python39\\lib\\site-packages (from qiskit-terra==0.25.0->qiskit) (5.8.0)\n",
      "Requirement already satisfied: scipy>=1.5 in c:\\users\\jerom\\appdata\\roaming\\python\\python39\\site-packages (from qiskit-terra==0.25.0->qiskit) (1.6.1)\n",
      "Requirement already satisfied: sympy>=1.3 in c:\\users\\jerom\\appdata\\local\\programs\\python\\python39\\lib\\site-packages (from qiskit-terra==0.25.0->qiskit) (1.7.1)\n",
      "Requirement already satisfied: dill>=0.3 in c:\\users\\jerom\\appdata\\local\\programs\\python\\python39\\lib\\site-packages (from qiskit-terra==0.25.0->qiskit) (0.3.5.1)\n",
      "Requirement already satisfied: python-dateutil>=2.8.0 in c:\\users\\jerom\\appdata\\local\\programs\\python\\python39\\lib\\site-packages (from qiskit-terra==0.25.0->qiskit) (2.8.2)\n",
      "Requirement already satisfied: stevedore>=3.0.0 in c:\\users\\jerom\\appdata\\local\\programs\\python\\python39\\lib\\site-packages (from qiskit-terra==0.25.0->qiskit) (3.5.0)\n",
      "Requirement already satisfied: typing-extensions in c:\\users\\jerom\\appdata\\local\\programs\\python\\python39\\lib\\site-packages (from qiskit-terra==0.25.0->qiskit) (4.2.0)\n",
      "Requirement already satisfied: pybind11>=2.6 in c:\\users\\jerom\\appdata\\local\\programs\\python\\python39\\lib\\site-packages (from qiskit-aer) (2.9.2)\n",
      "Requirement already satisfied: scikit-learn>=0.20.0 in c:\\users\\jerom\\appdata\\local\\programs\\python\\python39\\lib\\site-packages (from qiskit-machine-learning) (1.3.0)\n",
      "Requirement already satisfied: fastdtw in c:\\users\\jerom\\appdata\\roaming\\python\\python39\\site-packages (from qiskit-machine-learning) (0.3.4)\n",
      "Requirement already satisfied: setuptools>=40.1.0 in c:\\users\\jerom\\appdata\\local\\programs\\python\\python39\\lib\\site-packages (from qiskit-machine-learning) (58.1.0)\n"
     ]
    },
    {
     "name": "stderr",
     "output_type": "stream",
     "text": [
      "WARNING: Ignoring invalid distribution -iskit-terra (c:\\users\\jerom\\appdata\\roaming\\python\\python39\\site-packages)\n",
      "WARNING: Ignoring invalid distribution -iskit-terra (c:\\users\\jerom\\appdata\\roaming\\python\\python39\\site-packages)\n",
      "WARNING: Ignoring invalid distribution -rotobuf (c:\\users\\jerom\\appdata\\local\\programs\\python\\python39\\lib\\site-packages)\n",
      "ERROR: Could not install packages due to an OSError: [Errno 2] No such file or directory: 'c:\\\\users\\\\jerom\\\\appdata\\\\local\\\\programs\\\\python\\\\python39\\\\lib\\\\site-packages\\\\numpy-1.25.2.dist-info\\\\METADATA'\n",
      "\n",
      "WARNING: Ignoring invalid distribution -iskit-terra (c:\\users\\jerom\\appdata\\roaming\\python\\python39\\site-packages)\n",
      "WARNING: Ignoring invalid distribution -iskit-terra (c:\\users\\jerom\\appdata\\roaming\\python\\python39\\site-packages)\n",
      "WARNING: Ignoring invalid distribution -iskit-terra (c:\\users\\jerom\\appdata\\roaming\\python\\python39\\site-packages)\n",
      "\n",
      "[notice] A new release of pip is available: 23.2.1 -> 24.3.1\n",
      "[notice] To update, run: python.exe -m pip install --upgrade pip\n"
     ]
    },
    {
     "name": "stdout",
     "output_type": "stream",
     "text": [
      "Requirement already satisfied: qiskit-aer in c:\\users\\jerom\\appdata\\roaming\\python\\python39\\site-packages (0.8.1)\n",
      "Requirement already satisfied: numpy>=1.16.3 in c:\\users\\jerom\\appdata\\local\\programs\\python\\python39\\lib\\site-packages (from qiskit-aer) (1.25.2)\n",
      "Requirement already satisfied: scipy>=1.0 in c:\\users\\jerom\\appdata\\roaming\\python\\python39\\site-packages (from qiskit-aer) (1.6.1)\n",
      "Requirement already satisfied: pybind11>=2.6 in c:\\users\\jerom\\appdata\\local\\programs\\python\\python39\\lib\\site-packages (from qiskit-aer) (2.9.2)\n",
      "Requirement already satisfied: qiskit-terra>=0.17.0 in c:\\users\\jerom\\appdata\\local\\programs\\python\\python39\\lib\\site-packages (from qiskit-aer) (0.25.0)\n"
     ]
    },
    {
     "name": "stderr",
     "output_type": "stream",
     "text": [
      "WARNING: Ignoring invalid distribution -iskit-terra (c:\\users\\jerom\\appdata\\roaming\\python\\python39\\site-packages)\n",
      "WARNING: Ignoring invalid distribution -iskit-terra (c:\\users\\jerom\\appdata\\roaming\\python\\python39\\site-packages)\n",
      "WARNING: Ignoring invalid distribution -rotobuf (c:\\users\\jerom\\appdata\\local\\programs\\python\\python39\\lib\\site-packages)\n",
      "ERROR: Could not install packages due to an OSError: [Errno 2] No such file or directory: 'c:\\\\users\\\\jerom\\\\appdata\\\\local\\\\programs\\\\python\\\\python39\\\\lib\\\\site-packages\\\\numpy-1.25.2.dist-info\\\\METADATA'\n",
      "\n",
      "WARNING: Ignoring invalid distribution -iskit-terra (c:\\users\\jerom\\appdata\\roaming\\python\\python39\\site-packages)\n",
      "WARNING: Ignoring invalid distribution -iskit-terra (c:\\users\\jerom\\appdata\\roaming\\python\\python39\\site-packages)\n",
      "WARNING: Ignoring invalid distribution -iskit-terra (c:\\users\\jerom\\appdata\\roaming\\python\\python39\\site-packages)\n",
      "\n",
      "[notice] A new release of pip is available: 23.2.1 -> 24.3.1\n",
      "[notice] To update, run: python.exe -m pip install --upgrade pip\n"
     ]
    },
    {
     "name": "stdout",
     "output_type": "stream",
     "text": [
      "Requirement already satisfied: qiskit in c:\\users\\jerom\\appdata\\local\\programs\\python\\python39\\lib\\site-packages (0.44.0)\n",
      "Requirement already satisfied: qiskit-aer in c:\\users\\jerom\\appdata\\roaming\\python\\python39\\site-packages (0.8.1)\n",
      "Requirement already satisfied: qiskit-ignis in c:\\users\\jerom\\appdata\\roaming\\python\\python39\\site-packages (0.6.0)\n",
      "Requirement already satisfied: qiskit-terra==0.25.0 in c:\\users\\jerom\\appdata\\local\\programs\\python\\python39\\lib\\site-packages (from qiskit) (0.25.0)\n",
      "Requirement already satisfied: rustworkx>=0.13.0 in c:\\users\\jerom\\appdata\\local\\programs\\python\\python39\\lib\\site-packages (from qiskit-terra==0.25.0->qiskit) (0.13.1)\n",
      "Requirement already satisfied: numpy>=1.17 in c:\\users\\jerom\\appdata\\local\\programs\\python\\python39\\lib\\site-packages (from qiskit-terra==0.25.0->qiskit) (1.25.2)\n",
      "Requirement already satisfied: ply>=3.10 in c:\\users\\jerom\\appdata\\local\\programs\\python\\python39\\lib\\site-packages (from qiskit-terra==0.25.0->qiskit) (3.11)\n",
      "Requirement already satisfied: psutil>=5 in c:\\users\\jerom\\appdata\\local\\programs\\python\\python39\\lib\\site-packages (from qiskit-terra==0.25.0->qiskit) (5.8.0)\n",
      "Requirement already satisfied: scipy>=1.5 in c:\\users\\jerom\\appdata\\roaming\\python\\python39\\site-packages (from qiskit-terra==0.25.0->qiskit) (1.6.1)\n",
      "Requirement already satisfied: sympy>=1.3 in c:\\users\\jerom\\appdata\\local\\programs\\python\\python39\\lib\\site-packages (from qiskit-terra==0.25.0->qiskit) (1.7.1)\n",
      "Requirement already satisfied: dill>=0.3 in c:\\users\\jerom\\appdata\\local\\programs\\python\\python39\\lib\\site-packages (from qiskit-terra==0.25.0->qiskit) (0.3.5.1)\n",
      "Requirement already satisfied: python-dateutil>=2.8.0 in c:\\users\\jerom\\appdata\\local\\programs\\python\\python39\\lib\\site-packages (from qiskit-terra==0.25.0->qiskit) (2.8.2)\n",
      "Requirement already satisfied: stevedore>=3.0.0 in c:\\users\\jerom\\appdata\\local\\programs\\python\\python39\\lib\\site-packages (from qiskit-terra==0.25.0->qiskit) (3.5.0)\n",
      "Requirement already satisfied: typing-extensions in c:\\users\\jerom\\appdata\\local\\programs\\python\\python39\\lib\\site-packages (from qiskit-terra==0.25.0->qiskit) (4.2.0)\n",
      "Requirement already satisfied: pybind11>=2.6 in c:\\users\\jerom\\appdata\\local\\programs\\python\\python39\\lib\\site-packages (from qiskit-aer) (2.9.2)\n",
      "Requirement already satisfied: retworkx>=0.8.0 in c:\\users\\jerom\\appdata\\local\\programs\\python\\python39\\lib\\site-packages (from qiskit-ignis) (0.11.0)\n",
      "Requirement already satisfied: setuptools>=40.1.0 in c:\\users\\jerom\\appdata\\local\\programs\\python\\python39\\lib\\site-packages (from qiskit-ignis) (58.1.0)\n"
     ]
    },
    {
     "name": "stderr",
     "output_type": "stream",
     "text": [
      "WARNING: Ignoring invalid distribution -iskit-terra (c:\\users\\jerom\\appdata\\roaming\\python\\python39\\site-packages)\n",
      "WARNING: Ignoring invalid distribution -iskit-terra (c:\\users\\jerom\\appdata\\roaming\\python\\python39\\site-packages)\n",
      "WARNING: Ignoring invalid distribution -rotobuf (c:\\users\\jerom\\appdata\\local\\programs\\python\\python39\\lib\\site-packages)\n",
      "ERROR: Could not install packages due to an OSError: [Errno 2] No such file or directory: 'c:\\\\users\\\\jerom\\\\appdata\\\\local\\\\programs\\\\python\\\\python39\\\\lib\\\\site-packages\\\\numpy-1.25.2.dist-info\\\\METADATA'\n",
      "\n",
      "WARNING: Ignoring invalid distribution -iskit-terra (c:\\users\\jerom\\appdata\\roaming\\python\\python39\\site-packages)\n",
      "WARNING: Ignoring invalid distribution -iskit-terra (c:\\users\\jerom\\appdata\\roaming\\python\\python39\\site-packages)\n",
      "WARNING: Ignoring invalid distribution -iskit-terra (c:\\users\\jerom\\appdata\\roaming\\python\\python39\\site-packages)\n",
      "\n",
      "[notice] A new release of pip is available: 23.2.1 -> 24.3.1\n",
      "[notice] To update, run: python.exe -m pip install --upgrade pip\n"
     ]
    }
   ],
   "source": [
    "!pip install docplex\n",
    "!pip install dwave-ocean-sdk\n",
    "!pip install qiskit qiskit-aer qiskit-machine-learning\n",
    "!pip install qiskit-aer\n",
    "!pip install qiskit qiskit-aer qiskit-ignis"
   ]
  },
  {
   "cell_type": "code",
   "execution_count": 79,
   "id": "e4cf149f",
   "metadata": {},
   "outputs": [],
   "source": [
    "import numpy as np\n",
    "np.bool = np.bool_\n",
    "from docplex.mp.model import Model\n",
    "from qiskit.circuit.library import EfficientSU2\n",
    "from qiskit.circuit import QuantumCircuit\n",
    "from qiskit import Aer\n",
    "from qiskit.utils import QuantumInstance\n",
    "from qiskit.circuit import Parameter\n",
    "from qiskit.primitives import Sampler\n",
    "#from qiskit.algorithms.optimizers import SLSQP\n",
    "#from qiskit.circuit.library import Z2Symmetries\n",
    "#from qiskit.algorithms import VQE\n",
    "from qiskit.quantum_info import Pauli\n",
    "#from dwave.system import DWaveSampler, EmbeddingComposite\n",
    "\n",
    "\n"
   ]
  },
  {
   "cell_type": "markdown",
   "id": "093120bf",
   "metadata": {},
   "source": [
    "1. From Integer Linear Programming (ILP) to Quadratic Unconstrained Binary Optimization (QUBO)\n",
    "\n",
    "* Define the ILP formulation of the BPP. You can use Docplex or similar frameworks to do it. \n",
    "\n"
   ]
  },
  {
   "cell_type": "markdown",
   "id": "fb71685d",
   "metadata": {},
   "source": [
    "The ILP formulation of the BPP is : \n",
    "\n",
    "**Variables :**\n",
    "\n",
    "* binary variables : $x_{i,j}=1$ if item i is placed in bin j, 0 otherwise\n",
    "* binary variables : $y_j=1$ if bin j is used 0 otherwise\n",
    "\n",
    "**Objective Function :**\n",
    "\n",
    "* minimize $\\sum_j y_j$\n",
    "\n",
    "**Constraints:**\n",
    "\n",
    "* $\\forall i, j, x_{i,j}, y_j \\in \\left\\{0,1\\right\\} $\n",
    "* $\\sum_jx_{i,j}=1, \\forall i$ : each item must be placed in exactly one bin\n",
    "* $\\sum_iw_ix_{i,j}\\leq Wy_j, \\forall j$ : The total weight of items in each bin must not exceed the bin capacity W\n"
   ]
  },
  {
   "cell_type": "code",
   "execution_count": 80,
   "id": "9f0ef8ab",
   "metadata": {},
   "outputs": [],
   "source": [
    "# The ILP formultation is\n",
    "# docplex model\n",
    "from docplex.mp.model import Model\n",
    "\n",
    "def create_ilp(weights, capacity):\n",
    "    # Initialize the model\n",
    "    model = Model('bin_packing')\n",
    "    \n",
    "    num_items = len(weights)\n",
    "    # Create binary variables for items in bins\n",
    "    x = model.binary_var_matrix(num_items, num_items, name='x')  # x[i][j] = 1 if item i is in bin j\n",
    "    y = model.binary_var_list(num_items, name='y')  # y[j] = 1 if bin j is used\n",
    "\n",
    "    # Objective: Minimize the number of bins used\n",
    "    model.minimize(model.sum(y[j] for j in range(num_items)))\n",
    "\n",
    "    # Constraint 1: Each item must be placed in exactly one bin\n",
    "    for i in range(num_items):\n",
    "        model.add_constraint(model.sum(x[i, j] for j in range(num_items)) == 1)\n",
    "\n",
    "    # Constraint 2: The total weight in each bin must not exceed the capacity\n",
    "    for j in range(num_items):\n",
    "        model.add_constraint(model.sum(weights[i] * x[i, j] for i in range(num_items)) <= capacity * y[j])\n",
    "\n",
    "    return model"
   ]
  },
  {
   "cell_type": "markdown",
   "id": "65c1133a",
   "metadata": {},
   "source": [
    "* Create a function to transform the ILP model into a QUBO \n",
    "\n",
    "To Transform the ILP model into a QUBO, we need to express the objaectived functions and the constraint in a quadratic form. To do so we keep the objective functions and reformulate constraints in term of pernalties with slack variables : \n",
    "\n",
    "Cosntraint : \n",
    "$$Q(x,y) = \\sum_j y_j + \\sum_{i,j}\\left(1-\\sum_jx_{i,j}\\right)^2+\\sum_jmax\\left(0,\\sum_iw_ix_{i,j}-Wy_j\\right)^2$$\n",
    "\n",
    "Objective "
   ]
  },
  {
   "cell_type": "code",
   "execution_count": 81,
   "id": "f0987c8c",
   "metadata": {},
   "outputs": [],
   "source": [
    "def ilp_to_qubo(weights, capacity):\n",
    "    num_items = len(weights)\n",
    "    num_bins = num_items  # At most one bin per item\n",
    "\n",
    "    qubo_matrix = np.zeros((num_items + num_bins, num_items + num_bins))\n",
    "\n",
    "    # Objective: Minimize the number of bins used\n",
    "    for j in range(num_bins):\n",
    "        qubo_matrix[num_items + j, num_items + j] += 1  # Coefficient for y_j\n",
    "\n",
    "    # Constraint: Each item must be assigned to exactly one bin\n",
    "    for i in range(num_items):\n",
    "        for j in range(num_bins):\n",
    "            qubo_matrix[i, i] += 1  # Self-penalty for item i\n",
    "            qubo_matrix[i, num_items + j] += -2  # Coupling between x_ij and y_j\n",
    "\n",
    "    # Constraint: Total weight in each bin should not exceed capacity\n",
    "    for j in range(num_bins):\n",
    "        for i in range(num_items):\n",
    "            weight_term = weights[i]\n",
    "            qubo_matrix[num_items + j, num_items + j] += weight_term**2  # Penalty for excess weight\n",
    "            qubo_matrix[i, num_items + j] += -weight_term  # Coupling term\n",
    "\n",
    "    return qubo_matrix"
   ]
  },
  {
   "cell_type": "markdown",
   "id": "c74e78b8",
   "metadata": {},
   "source": [
    "* Test your function with specific instances (size small, medium, and big)\n",
    "\n",
    "* Small Instance : 3 items with a maximum capacity of 4\n",
    "* Medium Instance : 5 items and maximum capacity of 10 \n",
    "* LArge instance : 10 items and maximum capacity of 20"
   ]
  },
  {
   "cell_type": "code",
   "execution_count": 82,
   "id": "7b0fe5f5",
   "metadata": {},
   "outputs": [
    {
     "name": "stdout",
     "output_type": "stream",
     "text": [
      "\n",
      "Testing Small Instance:\n",
      "QUBO Matrix:\n",
      "[[ 3.  0.  0. -3. -3. -3.]\n",
      " [ 0.  3.  0. -4. -4. -4.]\n",
      " [ 0.  0.  3. -5. -5. -5.]\n",
      " [ 0.  0.  0. 15.  0.  0.]\n",
      " [ 0.  0.  0.  0. 15.  0.]\n",
      " [ 0.  0.  0.  0.  0. 15.]]\n",
      "\n",
      "Testing Medium Instance:\n",
      "QUBO Matrix:\n",
      "[[ 5.  0.  0.  0.  0. -4. -4. -4. -4. -4.]\n",
      " [ 0.  5.  0.  0.  0. -7. -7. -7. -7. -7.]\n",
      " [ 0.  0.  5.  0.  0. -5. -5. -5. -5. -5.]\n",
      " [ 0.  0.  0.  5.  0. -9. -9. -9. -9. -9.]\n",
      " [ 0.  0.  0.  0.  5. -3. -3. -3. -3. -3.]\n",
      " [ 0.  0.  0.  0.  0. 89.  0.  0.  0.  0.]\n",
      " [ 0.  0.  0.  0.  0.  0. 89.  0.  0.  0.]\n",
      " [ 0.  0.  0.  0.  0.  0.  0. 89.  0.  0.]\n",
      " [ 0.  0.  0.  0.  0.  0.  0.  0. 89.  0.]\n",
      " [ 0.  0.  0.  0.  0.  0.  0.  0.  0. 89.]]\n",
      "\n",
      "Testing Large Instance:\n",
      "QUBO Matrix:\n",
      "[[ 10.   0.   0.   0.   0.   0.   0.   0.   0.   0.  -3.  -3.  -3.  -3.\n",
      "   -3.  -3.  -3.  -3.  -3.  -3.]\n",
      " [  0.  10.   0.   0.   0.   0.   0.   0.   0.   0.  -4.  -4.  -4.  -4.\n",
      "   -4.  -4.  -4.  -4.  -4.  -4.]\n",
      " [  0.   0.  10.   0.   0.   0.   0.   0.   0.   0.  -5.  -5.  -5.  -5.\n",
      "   -5.  -5.  -5.  -5.  -5.  -5.]\n",
      " [  0.   0.   0.  10.   0.   0.   0.   0.   0.   0.  -6.  -6.  -6.  -6.\n",
      "   -6.  -6.  -6.  -6.  -6.  -6.]\n",
      " [  0.   0.   0.   0.  10.   0.   0.   0.   0.   0.  -7.  -7.  -7.  -7.\n",
      "   -7.  -7.  -7.  -7.  -7.  -7.]\n",
      " [  0.   0.   0.   0.   0.  10.   0.   0.   0.   0.  -8.  -8.  -8.  -8.\n",
      "   -8.  -8.  -8.  -8.  -8.  -8.]\n",
      " [  0.   0.   0.   0.   0.   0.  10.   0.   0.   0.  -9.  -9.  -9.  -9.\n",
      "   -9.  -9.  -9.  -9.  -9.  -9.]\n",
      " [  0.   0.   0.   0.   0.   0.   0.  10.   0.   0. -10. -10. -10. -10.\n",
      "  -10. -10. -10. -10. -10. -10.]\n",
      " [  0.   0.   0.   0.   0.   0.   0.   0.  10.   0. -11. -11. -11. -11.\n",
      "  -11. -11. -11. -11. -11. -11.]\n",
      " [  0.   0.   0.   0.   0.   0.   0.   0.   0.  10. -12. -12. -12. -12.\n",
      "  -12. -12. -12. -12. -12. -12.]\n",
      " [  0.   0.   0.   0.   0.   0.   0.   0.   0.   0. 386.   0.   0.   0.\n",
      "    0.   0.   0.   0.   0.   0.]\n",
      " [  0.   0.   0.   0.   0.   0.   0.   0.   0.   0.   0. 386.   0.   0.\n",
      "    0.   0.   0.   0.   0.   0.]\n",
      " [  0.   0.   0.   0.   0.   0.   0.   0.   0.   0.   0.   0. 386.   0.\n",
      "    0.   0.   0.   0.   0.   0.]\n",
      " [  0.   0.   0.   0.   0.   0.   0.   0.   0.   0.   0.   0.   0. 386.\n",
      "    0.   0.   0.   0.   0.   0.]\n",
      " [  0.   0.   0.   0.   0.   0.   0.   0.   0.   0.   0.   0.   0.   0.\n",
      "  386.   0.   0.   0.   0.   0.]\n",
      " [  0.   0.   0.   0.   0.   0.   0.   0.   0.   0.   0.   0.   0.   0.\n",
      "    0. 386.   0.   0.   0.   0.]\n",
      " [  0.   0.   0.   0.   0.   0.   0.   0.   0.   0.   0.   0.   0.   0.\n",
      "    0.   0. 386.   0.   0.   0.]\n",
      " [  0.   0.   0.   0.   0.   0.   0.   0.   0.   0.   0.   0.   0.   0.\n",
      "    0.   0.   0. 386.   0.   0.]\n",
      " [  0.   0.   0.   0.   0.   0.   0.   0.   0.   0.   0.   0.   0.   0.\n",
      "    0.   0.   0.   0. 386.   0.]\n",
      " [  0.   0.   0.   0.   0.   0.   0.   0.   0.   0.   0.   0.   0.   0.\n",
      "    0.   0.   0.   0.   0. 386.]]\n"
     ]
    }
   ],
   "source": [
    "test_cases = {\n",
    "    \"Small\": ([1, 2, 3], 4),               # 3 items, capacity 4\n",
    "    \"Medium\": ([2, 5, 3, 7, 1], 10),      # 5 items, capacity 10\n",
    "    \"Large\": ([1, 2, 3, 4, 5, 6, 7, 8, 9, 10], 20)  # 10 items, capacity 20\n",
    "}\n",
    "\n",
    "# Run tests\n",
    "for name, (weights, capacity) in test_cases.items():\n",
    "    print(f\"\\nTesting {name} Instance:\")\n",
    "    qubo_matrix = ilp_to_qubo(weights, capacity)\n",
    "    print(\"QUBO Matrix:\")\n",
    "    print(qubo_matrix)"
   ]
  },
  {
   "cell_type": "markdown",
   "id": "314f4340",
   "metadata": {},
   "source": [
    "2. Create a Brute Force solver for the QUBO problem and solve the specific instances\n",
    "\n",
    "The brute force solver works in the following way : \n",
    "* we go through all possible assignment where each items can go into any of the available bins\n",
    "* we keep track of the total weight in each bin and ccheck that the total weight does not exceed the capacity, if it does the assignment is considered as not valid and it is skipped\n",
    "* the optimal solutions is chosen amond the valid assignment by picking the one that uses the less bin\n",
    "* the retuern is the best assignment and the number of bins used"
   ]
  },
  {
   "cell_type": "code",
   "execution_count": 83,
   "id": "8b6fd9ea",
   "metadata": {},
   "outputs": [],
   "source": [
    "import itertools\n",
    "\n",
    "def brute_force_qubo(weights, capacity):\n",
    "    num_items = len(weights)\n",
    "    best_solution = None\n",
    "    best_bin_count = float('inf')\n",
    "\n",
    "    # Generate all possible assignments of items to bins\n",
    "    for assignment in itertools.product(range(num_items), repeat=num_items):\n",
    "        # Initialize total weights for each bin\n",
    "        total_weights = [0] * num_items\n",
    "        # Use a set to track which bins are used\n",
    "        bins_used = set()\n",
    "\n",
    "        # Calculate total weight per bin and track used bins\n",
    "        for item_index, bin_index in enumerate(assignment):\n",
    "            total_weights[bin_index] += weights[item_index]\n",
    "            bins_used.add(bin_index)  # Mark bin as used\n",
    "\n",
    "        # Check if any bin exceeds the capacity\n",
    "        if all(weight <= capacity for weight in total_weights):\n",
    "            current_bin_count = len(bins_used)\n",
    "            # Update best solution if this one uses fewer bins\n",
    "            if current_bin_count < best_bin_count:\n",
    "                best_bin_count = current_bin_count\n",
    "                best_solution = assignment\n",
    "\n",
    "    return best_solution, best_bin_count"
   ]
  },
  {
   "cell_type": "code",
   "execution_count": null,
   "id": "e527a954",
   "metadata": {},
   "outputs": [
    {
     "name": "stdout",
     "output_type": "stream",
     "text": [
      "\n",
      "Testing Small Instance:\n",
      "Best assignment: (0, 0, 1)\n",
      "Minimum number of bins used: 2\n",
      "\n",
      "Testing Medium Instance:\n",
      "Best assignment: (0, 0, 0, 1, 1)\n",
      "Minimum number of bins used: 2\n",
      "\n",
      "Testing Large Instance:\n"
     ]
    }
   ],
   "source": [
    "\n",
    "# Run brute force solver for each instance\n",
    "for name, (weights, capacity) in test_cases.items():\n",
    "    print(f\"\\nTesting {name} Instance:\")\n",
    "    solution, bin_count = brute_force_qubo(weights, capacity)\n",
    "    print(f\"Best assignment: {solution}\")\n",
    "    print(f\"Minimum number of bins used: {bin_count}\")"
   ]
  },
  {
   "cell_type": "markdown",
   "id": "b664b177",
   "metadata": {},
   "source": [
    "To solve the QUBO, use quantum annealing simulators. You can use the Dwave Ocean Framework. Here is an example."
   ]
  },
  {
   "cell_type": "code",
   "execution_count": null,
   "id": "f060aac8",
   "metadata": {},
   "outputs": [],
   "source": [
    "def solve_qubo(weights, capacity):\n",
    "    qubo_matrix = ilp_to_qubo(weights, capacity)\n",
    "    \n",
    "    # Convert QUBO matrix to a dictionary\n",
    "    qubo_dict = {}\n",
    "    for i in range(len(qubo_matrix)):\n",
    "        for j in range(len(qubo_matrix)):\n",
    "            if qubo_matrix[i, j] != 0:\n",
    "                qubo_dict[(i, j)] = qubo_matrix[i, j]\n",
    "\n",
    "    # Set up the D-Wave sampler\n",
    "    sampler = EmbeddingComposite(DWaveSampler())\n",
    "\n",
    "    # Solve the QUBO problem\n",
    "    sampleset = sampler.sample_qubo(qubo_dict, num_reads=100)\n",
    "\n",
    "    return sampleset"
   ]
  },
  {
   "cell_type": "code",
   "execution_count": null,
   "id": "03c519ae",
   "metadata": {},
   "outputs": [],
   "source": [
    "# Test instances\n",
    "test_cases = {\n",
    "    \"Small\": ([1, 2, 3], 4),\n",
    "    \"Medium\": ([2, 5, 3, 7, 1], 10),\n",
    "    \"Large\": ([1, 2, 3, 4, 5, 6, 7, 8, 9, 10], 20)\n",
    "}\n",
    "\n",
    "# Run quantum annealing simulator for each test case\n",
    "for name, (weights, capacity) in test_cases.items():\n",
    "    print(f\"\\nTesting {name} Instance:\")\n",
    "    solution = solve_qubo(weights, capacity)\n",
    "    print(\"Quantum Annealing Solution:\")\n",
    "    print(solution)"
   ]
  },
  {
   "cell_type": "markdown",
   "id": "6cabb42f",
   "metadata": {},
   "source": [
    "Use a Quantum Variational approach to solve the QUBO. \n",
    "\n",
    "* Create multiple Ansantz for tests. \n",
    "* Build a function with input being the QUBO and Ansantz. Using a hybrid approach solved the QUBO. \n",
    "\n",
    "I have used Qiskit framework.\n"
   ]
  },
  {
   "cell_type": "code",
   "execution_count": null,
   "id": "b11105da",
   "metadata": {},
   "outputs": [],
   "source": [
    "# create multiple ansazts to test\n",
    "def create_ansatz(num_qubits):\n",
    "    ansatz = EfficientSU2(num_qubits, entanglement='linear')\n",
    "    return ansatz"
   ]
  },
  {
   "cell_type": "code",
   "execution_count": null,
   "id": "465d8d8b",
   "metadata": {},
   "outputs": [],
   "source": [
    "# hybrid approach to solve the QUBO and a simulator\n",
    "def variational_solver(qubo_matrix, ansatz, num_qubits):\n",
    "    # Create a quantum instance\n",
    "    backend = Aer.get_backend('aer_simulator')\n",
    "    quantum_instance = QuantumInstance(backend, shots=1024)\n",
    "\n",
    "    # Setup VQE\n",
    "    vqe = VQE(ansatz, optimizer=SLSQP(), quantum_instance=quantum_instance)\n",
    "\n",
    "    # Define the Hamiltonian based on the QUBO\n",
    "    hamiltonian = qubo_to_hamiltonian(qubo_matrix)\n",
    "\n",
    "    # Run VQE\n",
    "    result = vqe.compute_minimum_eigenvalue(hamiltonian)\n",
    "\n",
    "    return result"
   ]
  },
  {
   "cell_type": "code",
   "execution_count": null,
   "id": "872436f7",
   "metadata": {},
   "outputs": [],
   "source": [
    "def qubo_to_hamiltonian(qubo_matrix):\n",
    "    num_vars = qubo_matrix.shape[0]\n",
    "    terms = []\n",
    "    \n",
    "    for i in range(num_vars):\n",
    "        for j in range(num_vars):\n",
    "            coeff = qubo_matrix[i, j]\n",
    "            if coeff != 0:\n",
    "                terms.append((coeff, Pauli.from_list([(i, 'Z'), (j, 'Z')])))\n",
    "    \n",
    "    return sum(coeff * Pauli.from_list([(i, 'Z'), (j, 'Z')]) for coeff, (i, j) in terms)"
   ]
  },
  {
   "cell_type": "code",
   "execution_count": null,
   "id": "ee49afce",
   "metadata": {},
   "outputs": [],
   "source": [
    "# Test instances\n",
    "test_cases = {\n",
    "    \"Small\": ([1, 2, 3], 4),\n",
    "    \"Medium\": ([2, 5, 3, 7, 1], 10),\n",
    "    \"Large\": ([1, 2, 3, 4, 5, 6, 7, 8, 9, 10], 20)\n",
    "}\n",
    "\n",
    "# Run VQE for each test case\n",
    "for name, (weights, capacity) in test_cases.items():\n",
    "    print(f\"\\nTesting {name} Instance:\")\n",
    "    qubo_matrix = ilp_to_qubo(weights, capacity)\n",
    "    ansatz = create_ansatz(qubo_matrix.shape[0])\n",
    "    \n",
    "    result = variational_solver(qubo_matrix, ansatz, qubo_matrix.shape[0])\n",
    "    print(\"Optimal value:\", result.eigenvalue)"
   ]
  },
  {
   "cell_type": "markdown",
   "id": "e551e98f",
   "metadata": {},
   "source": [
    "## Use QAOA to solve the QUBO. \n",
    "\n",
    "* Create from scratch a QAOA function\n"
   ]
  },
  {
   "cell_type": "code",
   "execution_count": null,
   "id": "0b54c7f8",
   "metadata": {},
   "outputs": [],
   "source": [
    "def create_qaoa_circuit(num_qubits, p, gamma, beta):\n",
    "    # Create a quantum circuit with the required number of qubits\n",
    "    qc = QuantumCircuit(num_qubits)\n",
    "\n",
    "    # Apply the Hadamard gate to all qubits\n",
    "    qc.h(range(num_qubits))\n",
    "\n",
    "    # Apply the QAOA layers\n",
    "    for layer in range(p):\n",
    "        # Apply the problem unitary\n",
    "        for i in range(num_qubits):\n",
    "            qc.rz(2 * gamma[layer], i)  # Rotation around Z-axis\n",
    "            if i < num_qubits - 1:\n",
    "                qc.cx(i, i + 1)  # CNOT between adjacent qubits\n",
    "\n",
    "        # Apply the mixer unitary\n",
    "        for i in range(num_qubits):\n",
    "            qc.rx(2 * beta[layer], i)  # Rotation around X-axis\n",
    "\n",
    "    return qc"
   ]
  },
  {
   "cell_type": "code",
   "execution_count": null,
   "id": "5754682c",
   "metadata": {},
   "outputs": [],
   "source": [
    "def expectation_value(qc, qubo_matrix, backend):\n",
    "    # Simulate the circuit to get the counts\n",
    "    counts = backend.run(qc).result().get_counts()\n",
    "    expectation = 0\n",
    "\n",
    "    # Calculate the expectation value based on counts\n",
    "    for outcome, count in counts.items():\n",
    "        outcome_value = 0\n",
    "        for i in range(len(outcome)):\n",
    "            if outcome[i] == '1':\n",
    "                outcome_value += 1  # Adjust for your specific QUBO matrix\n",
    "        expectation += count * (outcome_value)\n",
    "\n",
    "    return expectation / sum(counts.values())"
   ]
  },
  {
   "cell_type": "code",
   "execution_count": null,
   "id": "83bff951",
   "metadata": {},
   "outputs": [],
   "source": [
    "def optimize_qaoa(qubo_matrix, p):\n",
    "    num_qubits = qubo_matrix.shape[0]\n",
    "    backend = Aer.get_backend('aer_simulator')\n",
    "\n",
    "    # Define parameters for the QAOA circuit\n",
    "    gamma = [Parameter(f'γ_{i}') for i in range(p)]\n",
    "    beta = [Parameter(f'β_{i}') for i in range(p)]\n",
    "\n",
    "    # Objective function to minimize\n",
    "    def objective_function(params):\n",
    "        gammas = params[:p]\n",
    "        betas = params[p:]\n",
    "        qc = create_qaoa_circuit(num_qubits, p, gammas, betas)\n",
    "        return expectation_value(qc, qubo_matrix, backend)\n",
    "\n",
    "    # Initial guess for gamma and beta\n",
    "    initial_params = np.random.rand(2 * p)\n",
    "\n",
    "    # Minimize the objective function\n",
    "    result = minimize(objective_function, initial_params, method='COBYLA')\n",
    "\n",
    "    return result"
   ]
  },
  {
   "cell_type": "code",
   "execution_count": null,
   "id": "4eae0b3d",
   "metadata": {},
   "outputs": [],
   "source": [
    "# Run QAOA for each test case\n",
    "for name, (weights, capacity) in test_cases.items():\n",
    "    print(f\"\\nTesting {name} Instance:\")\n",
    "    qubo_matrix = ilp_to_qubo(weights, capacity)\n",
    "    p = 1  # Number of layers in QAOA\n",
    "    result = optimize_qaoa(qubo_matrix, p)\n",
    "    print(\"Optimal parameters:\", result.x)\n",
    "    print(\"Minimum value:\", result.fun)"
   ]
  },
  {
   "cell_type": "code",
   "execution_count": null,
   "id": "d7cb4097",
   "metadata": {},
   "outputs": [],
   "source": []
  }
 ],
 "metadata": {
  "kernelspec": {
   "display_name": "Python 3 (ipykernel)",
   "language": "python",
   "name": "python3"
  },
  "language_info": {
   "codemirror_mode": {
    "name": "ipython",
    "version": 3
   },
   "file_extension": ".py",
   "mimetype": "text/x-python",
   "name": "python",
   "nbconvert_exporter": "python",
   "pygments_lexer": "ipython3",
   "version": "3.9.13"
  }
 },
 "nbformat": 4,
 "nbformat_minor": 5
}
