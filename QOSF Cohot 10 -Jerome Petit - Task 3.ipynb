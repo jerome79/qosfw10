{
 "cells": [
  {
   "cell_type": "markdown",
   "id": "cfc89bf3",
   "metadata": {},
   "source": [
    "# QOSF Cohort 10\n",
    "## Task 3"
   ]
  },
  {
   "cell_type": "code",
   "execution_count": 343,
   "id": "e4cf149f",
   "metadata": {},
   "outputs": [],
   "source": [
    "import numpy as np\n",
    "np.bool = np.bool_\n",
    "from docplex.mp.model import Model\n",
    "from qiskit.circuit import QuantumCircuit\n",
    "from qiskit import transpile \n",
    "from qiskit_aer import Aer\n",
    "from qiskit.circuit import Parameter\n",
    "from qiskit.primitives import Sampler\n",
    "from qiskit_algorithms.optimizers import SLSQP\n",
    "from qiskit_optimization import QuadraticProgram\n",
    "from qiskit_optimization.converters import LinearEqualityToPenalty\n",
    "from qiskit.quantum_info.analysis.z2_symmetries import Z2Symmetries\n",
    "from qiskit_algorithms import VQE\n",
    "from qiskit.quantum_info import SparsePauliOp\n",
    "from dwave.system.samplers import DWaveSampler\n",
    "from dwave.system.composites import EmbeddingComposite\n",
    "from dwave.cloud import Client\n",
    "from qiskit.primitives import Estimator\n",
    "from scipy.optimize import minimize\n",
    "from qiskit.circuit.library import (\n",
    "    EfficientSU2,\n",
    "    RealAmplitudes,\n",
    "    TwoLocal,\n",
    "    NLocal,\n",
    "    ExcitationPreserving\n",
    ")"
   ]
  },
  {
   "cell_type": "markdown",
   "id": "093120bf",
   "metadata": {},
   "source": [
    "1. From Integer Linear Programming (ILP) to Quadratic Unconstrained Binary Optimization (QUBO)\n",
    "\n",
    "* Define the ILP formulation of the BPP. You can use Docplex or similar frameworks to do it. \n",
    "\n"
   ]
  },
  {
   "cell_type": "markdown",
   "id": "fb71685d",
   "metadata": {},
   "source": [
    "The ILP formulation of the BPP is : \n",
    "\n",
    "**Variables :**\n",
    "\n",
    "* binary variables : $x_{i,j}=1$ if item i is placed in bin j, 0 otherwise\n",
    "* binary variables : $y_j=1$ if bin j is used 0 otherwise\n",
    "\n",
    "**Objective Function :**\n",
    "\n",
    "* minimize $\\sum_j y_j$\n",
    "\n",
    "**Constraints:**\n",
    "\n",
    "* $\\forall i, j, x_{i,j}, y_j \\in \\left\\{0,1\\right\\} $\n",
    "* $\\sum_jx_{i,j}=1, \\forall i$ : each item must be placed in exactly one bin\n",
    "* $\\sum_iw_ix_{i,j}\\leq Wy_j, \\forall j$ : The total weight of items in each bin must not exceed the bin capacity W\n"
   ]
  },
  {
   "cell_type": "code",
   "execution_count": 346,
   "id": "9f0ef8ab",
   "metadata": {},
   "outputs": [],
   "source": [
    "# The ILP formultation is\n",
    "# docplex model\n",
    "from docplex.mp.model import Model\n",
    "\n",
    "def create_ilp(weights, capacity):\n",
    "    # Initialize the model\n",
    "    model = Model('bin_packing')\n",
    "    \n",
    "    num_items = len(weights)\n",
    "    # Create binary variables for items in bins\n",
    "    x = model.binary_var_matrix(num_items, num_items, name='x')  # x[i][j] = 1 if item i is in bin j\n",
    "    y = model.binary_var_list(num_items, name='y')  # y[j] = 1 if bin j is used\n",
    "\n",
    "    # Constraint 1: Each item must be placed in exactly one bin\n",
    "    for i in range(num_items):\n",
    "        model.add_constraint(model.sum(x[i, j] for j in range(num_items)) == 1)\n",
    "\n",
    "    # Constraint 2: The total weight in each bin must not exceed the capacity\n",
    "    for j in range(num_items):\n",
    "        model.add_constraint(model.sum(weights[i] * x[i, j] for i in range(num_items)) <= capacity * y[j])\n",
    "    # Objective: Minimize the number of bins used\n",
    "    model.minimize(model.sum(y[j] for j in range(num_items)))\n",
    "\n",
    "    return model\n"
   ]
  },
  {
   "cell_type": "markdown",
   "id": "65c1133a",
   "metadata": {},
   "source": [
    "* Create a function to transform the ILP model into a QUBO \n",
    "\n",
    "To Transform the ILP model into a QUBO, we need to express the objaectived functions and the constraint in a quadratic form. To do so we keep the objective functions and reformulate constraints in term of pernalties with slack variables : \n",
    "\n",
    "Cosntraint : \n",
    "$$Q(x,y) = \\sum_j y_j + \\sum_{i,j}\\left(1-\\sum_jx_{i,j}\\right)^2+\\sum_jmax\\left(0,\\sum_iw_ix_{i,j}-Wy_j\\right)^2$$\n",
    "\n",
    "Objective "
   ]
  },
  {
   "cell_type": "code",
   "execution_count": 347,
   "id": "f0987c8c",
   "metadata": {},
   "outputs": [],
   "source": [
    "def ilp_to_qubo(weights, capacity):\n",
    "    num_items = len(weights)\n",
    "    num_bins = num_items  # Each item can have its own bin\n",
    "\n",
    "    # Create QUBO matrix\n",
    "    qubo_matrix = np.zeros((num_items + num_bins, num_items + num_bins))\n",
    "\n",
    "    # Objective: Minimize the number of bins used\n",
    "    for j in range(num_bins):\n",
    "        qubo_matrix[num_items + j, num_items + j] += 1\n",
    "\n",
    "    # Constraint: Each item must be assigned to at most one bin\n",
    "    for i in range(num_items):\n",
    "        for j in range(num_bins):\n",
    "            qubo_matrix[i, i] += 1  # Self-penalty for item i\n",
    "            qubo_matrix[i, num_items + j] -= 2  # Coupling between item and bin\n",
    "\n",
    "    # Constraint: Total weight in each bin should not exceed capacity\n",
    "    for j in range(num_bins):\n",
    "        for i in range(num_items):\n",
    "            qubo_matrix[num_items + j, num_items + j] += weights[i]**2  # Penalty for excess weight\n",
    "            qubo_matrix[i, num_items + j] -= weights[i]  # Coupling term\n",
    "\n",
    "        # Add capacity constraint penalties\n",
    "        qubo_matrix[num_items + j, num_items + j] -= capacity  # Shift penalty for exceeding capacity\n",
    "\n",
    "    return qubo_matrix"
   ]
  },
  {
   "cell_type": "markdown",
   "id": "c74e78b8",
   "metadata": {},
   "source": [
    "* Test your function with specific instances (size small, medium, and big)\n",
    "\n",
    "* Small Instance : 3 items with a maximum capacity of 4\n",
    "* Medium Instance : 5 items and maximum capacity of 10 \n",
    "* LArge instance : 7 items and maximum capacity of 15"
   ]
  },
  {
   "cell_type": "code",
   "execution_count": 348,
   "id": "7b0fe5f5",
   "metadata": {},
   "outputs": [
    {
     "name": "stdout",
     "output_type": "stream",
     "text": [
      "\n",
      "Testing Small Instance:\n",
      "QUBO Matrix:\n",
      "[[ 3.  0.  0. -3. -3. -3.]\n",
      " [ 0.  3.  0. -4. -4. -4.]\n",
      " [ 0.  0.  3. -5. -5. -5.]\n",
      " [ 0.  0.  0. 11.  0.  0.]\n",
      " [ 0.  0.  0.  0. 11.  0.]\n",
      " [ 0.  0.  0.  0.  0. 11.]]\n",
      "\n",
      "Testing Medium Instance:\n",
      "QUBO Matrix:\n",
      "[[ 5.  0.  0.  0.  0. -4. -4. -4. -4. -4.]\n",
      " [ 0.  5.  0.  0.  0. -7. -7. -7. -7. -7.]\n",
      " [ 0.  0.  5.  0.  0. -5. -5. -5. -5. -5.]\n",
      " [ 0.  0.  0.  5.  0. -9. -9. -9. -9. -9.]\n",
      " [ 0.  0.  0.  0.  5. -3. -3. -3. -3. -3.]\n",
      " [ 0.  0.  0.  0.  0. 79.  0.  0.  0.  0.]\n",
      " [ 0.  0.  0.  0.  0.  0. 79.  0.  0.  0.]\n",
      " [ 0.  0.  0.  0.  0.  0.  0. 79.  0.  0.]\n",
      " [ 0.  0.  0.  0.  0.  0.  0.  0. 79.  0.]\n",
      " [ 0.  0.  0.  0.  0.  0.  0.  0.  0. 79.]]\n",
      "\n",
      "Testing Large Instance:\n",
      "QUBO Matrix:\n",
      "[[  7.   0.   0.   0.   0.   0.   0.  -3.  -3.  -3.  -3.  -3.  -3.  -3.]\n",
      " [  0.   7.   0.   0.   0.   0.   0.  -4.  -4.  -4.  -4.  -4.  -4.  -4.]\n",
      " [  0.   0.   7.   0.   0.   0.   0.  -5.  -5.  -5.  -5.  -5.  -5.  -5.]\n",
      " [  0.   0.   0.   7.   0.   0.   0.  -6.  -6.  -6.  -6.  -6.  -6.  -6.]\n",
      " [  0.   0.   0.   0.   7.   0.   0.  -7.  -7.  -7.  -7.  -7.  -7.  -7.]\n",
      " [  0.   0.   0.   0.   0.   7.   0.  -8.  -8.  -8.  -8.  -8.  -8.  -8.]\n",
      " [  0.   0.   0.   0.   0.   0.   7.  -9.  -9.  -9.  -9.  -9.  -9.  -9.]\n",
      " [  0.   0.   0.   0.   0.   0.   0. 126.   0.   0.   0.   0.   0.   0.]\n",
      " [  0.   0.   0.   0.   0.   0.   0.   0. 126.   0.   0.   0.   0.   0.]\n",
      " [  0.   0.   0.   0.   0.   0.   0.   0.   0. 126.   0.   0.   0.   0.]\n",
      " [  0.   0.   0.   0.   0.   0.   0.   0.   0.   0. 126.   0.   0.   0.]\n",
      " [  0.   0.   0.   0.   0.   0.   0.   0.   0.   0.   0. 126.   0.   0.]\n",
      " [  0.   0.   0.   0.   0.   0.   0.   0.   0.   0.   0.   0. 126.   0.]\n",
      " [  0.   0.   0.   0.   0.   0.   0.   0.   0.   0.   0.   0.   0. 126.]]\n"
     ]
    }
   ],
   "source": [
    "test_cases = {\n",
    "    \"Small\": ([1, 2, 3], 4),               # 3 items, capacity 4\n",
    "    \"Medium\": ([2, 5, 3, 7, 1], 10),      # 5 items, capacity 10\n",
    "    \"Large\": ([1, 2, 3, 4, 5, 6, 7], 15)  # 7 items, capacity 15\n",
    "}\n",
    "\n",
    "# Run tests\n",
    "for name, (weights, capacity) in test_cases.items():\n",
    "    print(f\"\\nTesting {name} Instance:\")\n",
    "    qubo_matrix = ilp_to_qubo(weights, capacity)\n",
    "    print(\"QUBO Matrix:\")\n",
    "    print(qubo_matrix)"
   ]
  },
  {
   "cell_type": "markdown",
   "id": "314f4340",
   "metadata": {},
   "source": [
    "2. Create a Brute Force solver for the QUBO problem and solve the specific instances\n",
    "\n",
    "The brute force solver works in the following way : \n",
    "* we go through all possible assignment where each items can go into any of the available bins\n",
    "* we keep track of the total weight in each bin and ccheck that the total weight does not exceed the capacity, if it does the assignment is considered as not valid and it is skipped\n",
    "* the optimal solutions is chosen amond the valid assignment by picking the one that uses the less bin\n",
    "* the retuern is the best assignment and the number of bins used"
   ]
  },
  {
   "cell_type": "code",
   "execution_count": 349,
   "id": "8b6fd9ea",
   "metadata": {},
   "outputs": [],
   "source": [
    "import itertools\n",
    "\n",
    "def brute_force_qubo(weights, capacity):\n",
    "    num_items = len(weights)\n",
    "    best_solution = None\n",
    "    best_bin_count = float('inf')\n",
    "\n",
    "    # Generate all possible assignments of items to bins\n",
    "    for assignment in itertools.product(range(num_items), repeat=num_items):\n",
    "        # Initialize total weights for each bin\n",
    "        total_weights = [0] * num_items\n",
    "        # Use a set to track which bins are used\n",
    "        bins_used = set()\n",
    "\n",
    "        # Calculate total weight per bin and track used bins\n",
    "        for item_index, bin_index in enumerate(assignment):\n",
    "            total_weights[bin_index] += weights[item_index]\n",
    "            bins_used.add(bin_index)  # Mark bin as used\n",
    "\n",
    "        # Check if any bin exceeds the capacity\n",
    "        if all(weight <= capacity for weight in total_weights):\n",
    "            current_bin_count = len(bins_used)\n",
    "            # Update best solution if this one uses fewer bins\n",
    "            if current_bin_count < best_bin_count:\n",
    "                best_bin_count = current_bin_count\n",
    "                best_solution = assignment\n",
    "\n",
    "    return best_solution, best_bin_count"
   ]
  },
  {
   "cell_type": "code",
   "execution_count": 350,
   "id": "e527a954",
   "metadata": {},
   "outputs": [
    {
     "name": "stdout",
     "output_type": "stream",
     "text": [
      "\n",
      "Testing Small Instance:\n",
      "Best assignment: (0, 0, 1)\n",
      "Minimum number of bins used: 2\n",
      "\n",
      "Testing Medium Instance:\n",
      "Best assignment: (0, 0, 0, 1, 1)\n",
      "Minimum number of bins used: 2\n",
      "\n",
      "Testing Large Instance:\n",
      "Best assignment: (0, 0, 0, 0, 0, 1, 1)\n",
      "Minimum number of bins used: 2\n"
     ]
    }
   ],
   "source": [
    "\n",
    "# Run brute force solver for each instance\n",
    "for name, (weights, capacity) in test_cases.items():\n",
    "    print(f\"\\nTesting {name} Instance:\")\n",
    "    solution, bin_count = brute_force_qubo(weights, capacity)\n",
    "    print(f\"Best assignment: {solution}\")\n",
    "    print(f\"Minimum number of bins used: {bin_count}\")"
   ]
  },
  {
   "cell_type": "markdown",
   "id": "b664b177",
   "metadata": {},
   "source": [
    "To solve the QUBO, use quantum annealing simulators. You can use the Dwave Ocean Framework. Here is an example."
   ]
  },
  {
   "cell_type": "code",
   "execution_count": 351,
   "id": "f060aac8",
   "metadata": {},
   "outputs": [],
   "source": [
    "def solve_qubo(weights, capacity):\n",
    "    qubo_matrix = ilp_to_qubo(weights, capacity)\n",
    "    \n",
    "   # Convert QUBO matrix to a dictionary\n",
    "    qubo_dict = {(i, j): qubo_matrix[i, j] for i in range(len(qubo_matrix)) for j in range(len(qubo_matrix)) if qubo_matrix[i, j] != 0}\n",
    "\n",
    "    \n",
    "    try:\n",
    "        client = Client.from_config()\n",
    "    except ValueError as e:\n",
    "        print(\"Error:\", e)\n",
    "        print(\"Make sure you have your API token set up as an environment variable.\")\n",
    "        return\n",
    "    \n",
    "    # Set up the D-Wave sampler\n",
    "    sampler = EmbeddingComposite(DWaveSampler())\n",
    "    initial_state = {i: 1 for i in range(len(qubo_matrix))}\n",
    "    # Solve the QUBO problem\n",
    "    sampleset = sampler.sample_qubo(qubo_dict, num_reads=200)#,initial_state=initial_state)\n",
    "\n",
    "    return sampleset"
   ]
  },
  {
   "cell_type": "code",
   "execution_count": 352,
   "id": "03c519ae",
   "metadata": {},
   "outputs": [
    {
     "name": "stdout",
     "output_type": "stream",
     "text": [
      "\n",
      "Testing Small Instance:\n",
      "Quantum Annealing Solution:\n",
      "   0  1  2  3  4  5 energy num_oc. chain_.\n",
      "0  0  0  0  0  0  0    0.0     200     0.0\n",
      "['BINARY', 1 rows, 200 samples, 6 variables]\n",
      "Best Sample (solution): {0: np.int8(0), 1: np.int8(0), 2: np.int8(0), 3: np.int8(0), 4: np.int8(0), 5: np.int8(0)}\n",
      "Best Energy: 0.0\n",
      "Bin 0: Items [0, 1, 2, 3, 4, 5]\n",
      "\n",
      "Testing Medium Instance:\n",
      "Quantum Annealing Solution:\n",
      "    0  1  2  3  4  5  6  7  8  9 energy num_oc. chain_.\n",
      "0   0  0  0  0  0  0  0  0  0  0    0.0     154     0.0\n",
      "1   0  1  0  0  0  0  0  0  0  0    5.0       3     0.0\n",
      "2   0  0  0  0  1  0  0  0  0  0    5.0      15     0.0\n",
      "3   0  0  0  1  0  0  0  0  0  0    5.0       5     0.0\n",
      "4   0  0  1  0  0  0  0  0  0  0    5.0       7     0.0\n",
      "5   1  0  0  0  0  0  0  0  0  0    5.0      10     0.0\n",
      "6   0  0  1  0  1  0  0  0  0  0   10.0       1     0.0\n",
      "7   0  1  1  0  0  0  0  0  0  0   10.0       1     0.0\n",
      "8   1  0  0  0  1  0  0  0  0  0   10.0       1     0.0\n",
      "9   1  0  1  0  0  0  0  0  0  0   10.0       1     0.0\n",
      "10  1  1  0  0  0  0  0  0  0  0   10.0       1     0.0\n",
      "11  0  0  1  1  1  0  0  0  0  0   15.0       1     0.0\n",
      "['BINARY', 12 rows, 200 samples, 10 variables]\n",
      "Best Sample (solution): {0: np.int8(0), 1: np.int8(0), 2: np.int8(0), 3: np.int8(0), 4: np.int8(0), 5: np.int8(0), 6: np.int8(0), 7: np.int8(0), 8: np.int8(0), 9: np.int8(0)}\n",
      "Best Energy: 0.0\n",
      "Bin 0: Items [0, 1, 2, 3, 4, 5, 6, 7, 8, 9]\n",
      "\n",
      "Testing Large Instance:\n",
      "Quantum Annealing Solution:\n",
      "    0  1  2  3  4  5  6  7  8  9 10 11 12 13 energy num_oc. chain_b.\n",
      "0   0  0  0  0  0  0  0  0  0  0  0  0  0  0    0.0      96      0.0\n",
      "1   1  0  0  0  0  0  0  0  0  0  0  0  0  0    7.0       6      0.0\n",
      "2   0  0  0  0  0  0  1  0  0  0  0  0  0  0    7.0       7      0.0\n",
      "3   0  0  0  1  0  0  0  0  0  0  0  0  0  0    7.0      14      0.0\n",
      "4   0  0  0  0  1  0  0  0  0  0  0  0  0  0    7.0       5      0.0\n",
      "5   0  0  1  0  0  0  0  0  0  0  0  0  0  0    7.0      18      0.0\n",
      "6   0  1  0  0  0  0  0  0  0  0  0  0  0  0    7.0       9      0.0\n",
      "7   0  0  0  0  0  1  0  0  0  0  0  0  0  0    7.0      10      0.0\n",
      "8   0  0  0  0  0  1  0  0  0  0  0  0  0  0    7.0       2 0.071429\n",
      "22  0  1  0  0  0  0  0  0  0  0  0  0  0  0    7.0       1 0.071429\n",
      "27  0  0  1  0  0  0  0  0  0  0  0  0  0  0    7.0       3 0.071429\n",
      "9   0  1  0  1  0  0  0  0  0  0  0  0  0  0   14.0       1      0.0\n",
      "10  1  0  0  1  0  0  0  0  0  0  0  0  0  0   14.0       3      0.0\n",
      "11  0  0  0  0  1  1  0  0  0  0  0  0  0  0   14.0       1      0.0\n",
      "12  1  0  0  0  1  0  0  0  0  0  0  0  0  0   14.0       1      0.0\n",
      "13  1  1  0  0  0  0  0  0  0  0  0  0  0  0   14.0       1      0.0\n",
      "14  1  0  0  0  0  0  1  0  0  0  0  0  0  0   14.0       2      0.0\n",
      "15  0  0  0  1  0  1  0  0  0  0  0  0  0  0   14.0       1      0.0\n",
      "16  1  0  1  0  0  0  0  0  0  0  0  0  0  0   14.0       3      0.0\n",
      "17  0  1  1  0  0  0  0  0  0  0  0  0  0  0   14.0       1      0.0\n",
      "18  0  0  1  0  0  1  0  0  0  0  0  0  0  0   14.0       1      0.0\n",
      "19  0  0  1  1  0  0  0  0  0  0  0  0  0  0   14.0       3      0.0\n",
      "20  0  0  0  1  1  0  0  0  0  0  0  0  0  0   14.0       1      0.0\n",
      "21  0  0  0  1  0  0  1  0  0  0  0  0  0  0   14.0       1      0.0\n",
      "23  0  0  0  0  1  1  0  0  0  0  0  0  0  0   14.0       1 0.071429\n",
      "24  0  0  1  0  0  1  0  0  0  0  0  0  0  0   14.0       1 0.071429\n",
      "25  0  0  0  1  0  1  0  0  0  0  0  0  0  0   14.0       2 0.071429\n",
      "26  1  0  0  0  0  1  0  0  0  0  0  0  0  0   14.0       1 0.071429\n",
      "30  0  1  1  0  0  0  0  0  0  0  0  0  0  0   14.0       1 0.071429\n",
      "31  0  0  1  0  0  1  0  0  0  0  0  0  0  0   14.0       1 0.142857\n",
      "28  0  1  0  0  1  0  1  0  0  0  0  0  0  0   21.0       1      0.0\n",
      "29  1  0  1  0  0  0  1  0  0  0  0  0  0  0   21.0       1      0.0\n",
      "['BINARY', 32 rows, 200 samples, 14 variables]\n",
      "Best Sample (solution): {0: np.int8(0), 1: np.int8(0), 2: np.int8(0), 3: np.int8(0), 4: np.int8(0), 5: np.int8(0), 6: np.int8(0), 7: np.int8(0), 8: np.int8(0), 9: np.int8(0), 10: np.int8(0), 11: np.int8(0), 12: np.int8(0), 13: np.int8(0)}\n",
      "Best Energy: 0.0\n",
      "Bin 0: Items [0, 1, 2, 3, 4, 5, 6, 7, 8, 9, 10, 11, 12, 13]\n"
     ]
    }
   ],
   "source": [
    "# Run quantum annealing simulator for each test case\n",
    "for name, (weights, capacity) in test_cases.items():\n",
    "    print(f\"\\nTesting {name} Instance:\")\n",
    "    solution = solve_qubo(weights, capacity)\n",
    "    print(\"Quantum Annealing Solution:\")\n",
    "    print(solution)\n",
    "    # Get the best sample (the one with the lowest energy)\n",
    "    best_sample = solution.first.sample\n",
    "    best_energy = solution.first.energy\n",
    "\n",
    "    print(\"Best Sample (solution):\", best_sample)\n",
    "    print(\"Best Energy:\", best_energy)\n",
    "\n",
    "    # Interpret the best sample\n",
    "    assigned_bins = {}\n",
    "    for i, assigned in best_sample.items():\n",
    "        if assigned not in assigned_bins:\n",
    "            assigned_bins[assigned] = []\n",
    "        assigned_bins[assigned].append(i)  # Map item indices to their assigned bins\n",
    "\n",
    "    # Display the bin assignments\n",
    "    for bin_id, items in assigned_bins.items():\n",
    "        print(f\"Bin {bin_id}: Items {items}\")"
   ]
  },
  {
   "cell_type": "markdown",
   "id": "6cabb42f",
   "metadata": {},
   "source": [
    "Use a Quantum Variational approach to solve the QUBO. \n",
    "\n",
    "* Create multiple Ansantz for tests. \n",
    "* Build a function with input being the QUBO and Ansantz. Using a hybrid approach solved the QUBO. \n",
    "\n",
    "I have used Qiskit framework\n",
    "\n",
    "For the ansazt, I have used : \n",
    "* EfficientSU2 (Linear): A parameterized circuit with linear entanglement.\n",
    "\n",
    "* EfficientSU2 (Full): Similar to the previous but with full entanglement.\n",
    "\n",
    "* RealAmplitudes (2 reps): A versatile ansatz with two repetitions.\n",
    "\n",
    "* TwoLocal (CZ): Alternates between rotations and controlled-Z gates.\n",
    "\n",
    "* ExcitationPreserving: A circuit that preserves the excitation structure, useful for certain types of problems.\n"
   ]
  },
  {
   "cell_type": "code",
   "execution_count": 353,
   "id": "b11105da",
   "metadata": {},
   "outputs": [],
   "source": [
    "# create multiple ansazts to test\n",
    "def create_ansatze(num_qubits):\n",
    "    ansatze = []\n",
    "    \n",
    "    # Ansatz 1: EfficientSU2 with linear entanglement\n",
    "    ansatze.append(EfficientSU2(num_qubits, entanglement='linear', name='EfficientSU2 (Linear)'))\n",
    "    \n",
    "    # Ansatz 2: EfficientSU2 with full entanglement\n",
    "    ansatze.append(EfficientSU2(num_qubits, entanglement='full', name='EfficientSU2 (Full)'))\n",
    "    \n",
    "    # Ansatz 3: RealAmplitudes with 2 repetitions\n",
    "    ansatze.append(RealAmplitudes(num_qubits, reps=2, name='RealAmplitudes (2 reps)'))\n",
    "    \n",
    "    # Ansatz 4: TwoLocal with alternating layers of X and Z rotations\n",
    "    ansatze.append(TwoLocal(num_qubits, ['ry', 'rz'], 'cz', reps=2, name='TwoLocal (CZ)'))\n",
    "    \n",
    "    # Ansatz 5: ExcitationPreserving with full entanglement\n",
    "    ansatze.append(ExcitationPreserving(num_qubits, name='ExcitationPreserving'))\n",
    "    \n",
    "    return ansatze"
   ]
  },
  {
   "cell_type": "code",
   "execution_count": 354,
   "id": "465d8d8b",
   "metadata": {},
   "outputs": [],
   "source": [
    "# hybrid approach to solve the QUBO and a simulator\n",
    "def variational_solver(qubo_matrix, ansatz, num_qubits):\n",
    "    # Create a quantum instance\n",
    "    estimator = Estimator(options={\"shots\": 2048})\n",
    "    # Setup VQE\n",
    "    vqe = VQE(estimator ,ansatz, optimizer=SLSQP())\n",
    "\n",
    "    # Define the Hamiltonian based on the QUBO\n",
    "    hamiltonian = qubo_to_hamiltonian(qubo_matrix)\n",
    "\n",
    "    # Run VQE\n",
    "    result = vqe.compute_minimum_eigenvalue(hamiltonian)\n",
    "\n",
    "    return result"
   ]
  },
  {
   "cell_type": "code",
   "execution_count": 355,
   "id": "872436f7",
   "metadata": {},
   "outputs": [],
   "source": [
    "def qubo_to_hamiltonian(qubo_matrix):\n",
    "    num_vars = qubo_matrix.shape[0]\n",
    "    # Start with the identity operator in the Pauli basis\n",
    "    hamiltonian = SparsePauliOp.from_list([('I' * num_vars, 0)])  # Identity for num_vars qubits\n",
    "\n",
    "    for i in range(num_vars):\n",
    "        # Handle diagonal terms (linear terms)\n",
    "        if qubo_matrix[i, i] != 0:\n",
    "            # Create Pauli string with Z on qubit i and I on others\n",
    "            pauli_string = 'I' * i + 'Z' + 'I' * (num_vars - i - 1)\n",
    "            hamiltonian += qubo_matrix[i, i] * SparsePauliOp.from_list([(pauli_string, 1)])\n",
    "\n",
    "        for j in range(i + 1, num_vars):  # Iterate only over upper triangle\n",
    "            coeff = qubo_matrix[i, j]\n",
    "            if coeff != 0:\n",
    "                # Create Pauli string with Z on qubit i and j, and I on others\n",
    "                pauli_string = 'I' * i + 'Z' + 'I' * (j - i - 1) + 'Z' + 'I' * (num_vars - j - 1)\n",
    "                hamiltonian += coeff * SparsePauliOp.from_list([(pauli_string, 1)])\n",
    "\n",
    "    return hamiltonian"
   ]
  },
  {
   "cell_type": "code",
   "execution_count": 356,
   "id": "aa828361",
   "metadata": {},
   "outputs": [],
   "source": [
    "def interpret_results(result, weights, capacity):\n",
    "    optimal_state = result.optimal_point  # Get optimal parameters\n",
    "\n",
    "    num_items = len(weights)\n",
    "    num_bins = num_items\n",
    "    bins = [[] for _ in range(num_bins)]\n",
    "    bin_weights = [0] * num_bins\n",
    "\n",
    "    for i in range(num_items):\n",
    "        for j in range(num_bins):\n",
    "            if optimal_state[i] > 0.5 and bin_weights[j] + weights[i] <= capacity:\n",
    "                bins[j].append(i)\n",
    "                bin_weights[j] += weights[i]\n",
    "                break\n",
    "\n",
    "    used_bins = [bin for bin in bins if bin]\n",
    "\n",
    "    print(\"Items allocated to bins:\")\n",
    "    for bin_index, items in enumerate(used_bins):\n",
    "        print(f\"Bin {bin_index + 1}: Items {items} (Weights: {[weights[i] for i in items]})\")\n",
    "\n",
    "    print(f\"\\nTotal number of bins used: {len(used_bins)}\")"
   ]
  },
  {
   "cell_type": "code",
   "execution_count": null,
   "id": "ee49afce",
   "metadata": {},
   "outputs": [
    {
     "name": "stdout",
     "output_type": "stream",
     "text": [
      "\n",
      "Testing Small Instance:\n",
      "\n",
      "Testing Ansatz: EfficientSU2 (Linear)\n"
     ]
    },
    {
     "name": "stderr",
     "output_type": "stream",
     "text": [
      "C:\\Users\\jerom\\AppData\\Local\\Temp\\ipykernel_69800\\3967288211.py:4: DeprecationWarning: The class ``qiskit.primitives.estimator.Estimator`` is deprecated as of qiskit 1.2. It will be removed no earlier than 3 months after the release date. All implementations of the `BaseEstimatorV1` interface have been deprecated in favor of their V2 counterparts. The V2 alternative for the `Estimator` class is `StatevectorEstimator`.\n",
      "  estimator = Estimator(options={\"shots\": 2048})\n",
      "C:\\Users\\jerom\\AppData\\Local\\Programs\\Python\\Python312\\Lib\\site-packages\\scipy\\optimize\\_slsqp_py.py:434: RuntimeWarning: Values in x were outside bounds during a minimize step, clipping to bounds\n",
      "  fx = wrapped_fun(x)\n"
     ]
    },
    {
     "name": "stdout",
     "output_type": "stream",
     "text": [
      "Optimal value: 4.112027849479483\n",
      "Items allocated to bins:\n",
      "Bin 1: Items [1] (Weights: [2])\n",
      "Bin 2: Items [2] (Weights: [3])\n",
      "\n",
      "Total number of bins used: 2\n",
      "\n",
      "Testing Ansatz: EfficientSU2 (Full)\n"
     ]
    },
    {
     "name": "stderr",
     "output_type": "stream",
     "text": [
      "C:\\Users\\jerom\\AppData\\Local\\Temp\\ipykernel_69800\\3967288211.py:4: DeprecationWarning: The class ``qiskit.primitives.estimator.Estimator`` is deprecated as of qiskit 1.2. It will be removed no earlier than 3 months after the release date. All implementations of the `BaseEstimatorV1` interface have been deprecated in favor of their V2 counterparts. The V2 alternative for the `Estimator` class is `StatevectorEstimator`.\n",
      "  estimator = Estimator(options={\"shots\": 2048})\n"
     ]
    },
    {
     "name": "stdout",
     "output_type": "stream",
     "text": [
      "Optimal value: -5.655317225910568\n",
      "Items allocated to bins:\n",
      "Bin 1: Items [0, 2] (Weights: [1, 3])\n",
      "\n",
      "Total number of bins used: 1\n",
      "\n",
      "Testing Ansatz: RealAmplitudes (2 reps)\n"
     ]
    },
    {
     "name": "stderr",
     "output_type": "stream",
     "text": [
      "C:\\Users\\jerom\\AppData\\Local\\Temp\\ipykernel_69800\\3967288211.py:4: DeprecationWarning: The class ``qiskit.primitives.estimator.Estimator`` is deprecated as of qiskit 1.2. It will be removed no earlier than 3 months after the release date. All implementations of the `BaseEstimatorV1` interface have been deprecated in favor of their V2 counterparts. The V2 alternative for the `Estimator` class is `StatevectorEstimator`.\n",
      "  estimator = Estimator(options={\"shots\": 2048})\n"
     ]
    },
    {
     "name": "stdout",
     "output_type": "stream",
     "text": [
      "Optimal value: -3.7039874898368823\n",
      "Items allocated to bins:\n",
      "Bin 1: Items [0, 1] (Weights: [1, 2])\n",
      "Bin 2: Items [2] (Weights: [3])\n",
      "\n",
      "Total number of bins used: 2\n",
      "\n",
      "Testing Ansatz: TwoLocal (CZ)\n"
     ]
    },
    {
     "name": "stderr",
     "output_type": "stream",
     "text": [
      "C:\\Users\\jerom\\AppData\\Local\\Temp\\ipykernel_69800\\3967288211.py:4: DeprecationWarning: The class ``qiskit.primitives.estimator.Estimator`` is deprecated as of qiskit 1.2. It will be removed no earlier than 3 months after the release date. All implementations of the `BaseEstimatorV1` interface have been deprecated in favor of their V2 counterparts. The V2 alternative for the `Estimator` class is `StatevectorEstimator`.\n",
      "  estimator = Estimator(options={\"shots\": 2048})\n"
     ]
    },
    {
     "name": "stdout",
     "output_type": "stream",
     "text": [
      "Optimal value: -4.940253774742118\n",
      "Items allocated to bins:\n",
      "Bin 1: Items [0, 1] (Weights: [1, 2])\n",
      "\n",
      "Total number of bins used: 1\n",
      "\n",
      "Testing Ansatz: ExcitationPreserving\n"
     ]
    },
    {
     "name": "stderr",
     "output_type": "stream",
     "text": [
      "C:\\Users\\jerom\\AppData\\Local\\Temp\\ipykernel_69800\\3967288211.py:4: DeprecationWarning: The class ``qiskit.primitives.estimator.Estimator`` is deprecated as of qiskit 1.2. It will be removed no earlier than 3 months after the release date. All implementations of the `BaseEstimatorV1` interface have been deprecated in favor of their V2 counterparts. The V2 alternative for the `Estimator` class is `StatevectorEstimator`.\n",
      "  estimator = Estimator(options={\"shots\": 2048})\n"
     ]
    },
    {
     "name": "stdout",
     "output_type": "stream",
     "text": [
      "Optimal value: 6.000000000000018\n",
      "Items allocated to bins:\n",
      "Bin 1: Items [0] (Weights: [1])\n",
      "\n",
      "Total number of bins used: 1\n",
      "\n",
      "All Results per Ansatz:\n",
      "EfficientSU2 (Linear): 4.112027849479483\n",
      "EfficientSU2 (Full): -5.655317225910568 (Best)\n",
      "RealAmplitudes (2 reps): -3.7039874898368823\n",
      "TwoLocal (CZ): -4.940253774742118\n",
      "ExcitationPreserving: 6.000000000000018\n",
      "\n",
      "Testing Medium Instance:\n",
      "\n",
      "Testing Ansatz: EfficientSU2 (Linear)\n"
     ]
    },
    {
     "name": "stderr",
     "output_type": "stream",
     "text": [
      "C:\\Users\\jerom\\AppData\\Local\\Temp\\ipykernel_69800\\3967288211.py:4: DeprecationWarning: The class ``qiskit.primitives.estimator.Estimator`` is deprecated as of qiskit 1.2. It will be removed no earlier than 3 months after the release date. All implementations of the `BaseEstimatorV1` interface have been deprecated in favor of their V2 counterparts. The V2 alternative for the `Estimator` class is `StatevectorEstimator`.\n",
      "  estimator = Estimator(options={\"shots\": 2048})\n"
     ]
    },
    {
     "name": "stdout",
     "output_type": "stream",
     "text": [
      "Optimal value: -83.76207712681133\n",
      "Items allocated to bins:\n",
      "\n",
      "Total number of bins used: 0\n",
      "\n",
      "Testing Ansatz: EfficientSU2 (Full)\n"
     ]
    },
    {
     "name": "stderr",
     "output_type": "stream",
     "text": [
      "C:\\Users\\jerom\\AppData\\Local\\Temp\\ipykernel_69800\\3967288211.py:4: DeprecationWarning: The class ``qiskit.primitives.estimator.Estimator`` is deprecated as of qiskit 1.2. It will be removed no earlier than 3 months after the release date. All implementations of the `BaseEstimatorV1` interface have been deprecated in favor of their V2 counterparts. The V2 alternative for the `Estimator` class is `StatevectorEstimator`.\n",
      "  estimator = Estimator(options={\"shots\": 2048})\n",
      "C:\\Users\\jerom\\AppData\\Local\\Programs\\Python\\Python312\\Lib\\site-packages\\scipy\\optimize\\_slsqp_py.py:434: RuntimeWarning: Values in x were outside bounds during a minimize step, clipping to bounds\n",
      "  fx = wrapped_fun(x)\n"
     ]
    },
    {
     "name": "stdout",
     "output_type": "stream",
     "text": [
      "Optimal value: 17.360440826072054\n",
      "Items allocated to bins:\n",
      "Bin 1: Items [2] (Weights: [3])\n",
      "\n",
      "Total number of bins used: 1\n",
      "\n",
      "Testing Ansatz: RealAmplitudes (2 reps)\n"
     ]
    },
    {
     "name": "stderr",
     "output_type": "stream",
     "text": [
      "C:\\Users\\jerom\\AppData\\Local\\Temp\\ipykernel_69800\\3967288211.py:4: DeprecationWarning: The class ``qiskit.primitives.estimator.Estimator`` is deprecated as of qiskit 1.2. It will be removed no earlier than 3 months after the release date. All implementations of the `BaseEstimatorV1` interface have been deprecated in favor of their V2 counterparts. The V2 alternative for the `Estimator` class is `StatevectorEstimator`.\n",
      "  estimator = Estimator(options={\"shots\": 2048})\n",
      "C:\\Users\\jerom\\AppData\\Local\\Programs\\Python\\Python312\\Lib\\site-packages\\scipy\\optimize\\_slsqp_py.py:434: RuntimeWarning: Values in x were outside bounds during a minimize step, clipping to bounds\n",
      "  fx = wrapped_fun(x)\n"
     ]
    },
    {
     "name": "stdout",
     "output_type": "stream",
     "text": [
      "Optimal value: 40.26779842257382\n",
      "Items allocated to bins:\n",
      "Bin 1: Items [2] (Weights: [3])\n",
      "\n",
      "Total number of bins used: 1\n",
      "\n",
      "Testing Ansatz: TwoLocal (CZ)\n"
     ]
    },
    {
     "name": "stderr",
     "output_type": "stream",
     "text": [
      "C:\\Users\\jerom\\AppData\\Local\\Temp\\ipykernel_69800\\3967288211.py:4: DeprecationWarning: The class ``qiskit.primitives.estimator.Estimator`` is deprecated as of qiskit 1.2. It will be removed no earlier than 3 months after the release date. All implementations of the `BaseEstimatorV1` interface have been deprecated in favor of their V2 counterparts. The V2 alternative for the `Estimator` class is `StatevectorEstimator`.\n",
      "  estimator = Estimator(options={\"shots\": 2048})\n"
     ]
    }
   ],
   "source": [
    "# Run VQE for each test case\n",
    "for name, (weights, capacity) in test_cases.items():\n",
    "    print(f\"\\nTesting {name} Instance:\")\n",
    "    qubo_matrix = ilp_to_qubo(weights, capacity)\n",
    "    ansatzes = create_ansatze(qubo_matrix.shape[0])\n",
    "    results = {}\n",
    "    for ansazt in ansatzes:\n",
    "        print(f\"\\nTesting Ansatz: {ansazt.name}\")\n",
    "        result = variational_solver(qubo_matrix, ansazt, qubo_matrix.shape[0])\n",
    "        optimal_value = result.eigenvalue\n",
    "        print(\"Optimal value:\", optimal_value)\n",
    "        # Interpret and display the results\n",
    "        interpret_results(result, weights, capacity)\n",
    "        #store value for best ansazt\n",
    "        results[ansazt.name] = optimal_value\n",
    "    best_ansatz = min(results, key=results.get)\n",
    "    lowest_value = results[best_ansatz]\n",
    "    print(\"\\nAll Results per Ansatz:\")\n",
    "    for name, value in results.items():\n",
    "        if name == best_ansatz:\n",
    "            print(f\"{name}: {value} (Best)\")\n",
    "        else:\n",
    "            print(f\"{name}: {value}\")\n",
    "    "
   ]
  },
  {
   "cell_type": "markdown",
   "id": "e551e98f",
   "metadata": {},
   "source": [
    "## Use QAOA to solve the QUBO. \n",
    "\n",
    "* Create from scratch a QAOA function\n"
   ]
  },
  {
   "cell_type": "code",
   "execution_count": null,
   "id": "0b54c7f8",
   "metadata": {},
   "outputs": [],
   "source": [
    "def create_qaoa_circuit(num_qubits, p, gamma, beta):\n",
    "    # Create a quantum circuit with the required number of qubits\n",
    "    qc = QuantumCircuit(num_qubits)\n",
    "\n",
    "    # Apply the Hadamard gate to all qubits\n",
    "    qc.h(range(num_qubits))\n",
    "\n",
    "    # Apply the QAOA layers\n",
    "    for layer in range(p):\n",
    "        # Apply the problem unitary\n",
    "        for i in range(num_qubits):\n",
    "            qc.rz(2 * gamma[layer], i)  # Rotation around Z-axis\n",
    "            if i < num_qubits - 1:\n",
    "                qc.cx(i, i + 1)  # CNOT between adjacent qubits\n",
    "\n",
    "        # Apply the mixer unitary\n",
    "        for i in range(num_qubits):\n",
    "            qc.rx(2 * beta[layer], i)  # Rotation around X-axis\n",
    "    qc.measure_all()\n",
    "    return qc"
   ]
  },
  {
   "cell_type": "code",
   "execution_count": null,
   "id": "5754682c",
   "metadata": {},
   "outputs": [],
   "source": [
    "def expectation_value(transpiled_qc, qubo_matrix, backend):\n",
    "    # Simulate the circuit to get the counts\n",
    "    job = backend.run(transpiled_qc, shots=2048)\n",
    "    result = job.result()\n",
    "    counts = result.get_counts()  # Just call get_counts() without parameters\n",
    "    expectation = 0\n",
    "\n",
    "    # Calculate the expectation value based on counts\n",
    "    total_counts = sum(counts.values())\n",
    "    for outcome, count in counts.items():\n",
    "        outcome_value = 0\n",
    "        for i in range(len(outcome)):\n",
    "            if outcome[i] == '1':\n",
    "                outcome_value += 1  # Adjust based on your QUBO matrix\n",
    "        expectation += count * outcome_value\n",
    "\n",
    "    return expectation / total_counts if total_counts > 0 else 0"
   ]
  },
  {
   "cell_type": "code",
   "execution_count": null,
   "id": "83bff951",
   "metadata": {},
   "outputs": [],
   "source": [
    "def optimize_qaoa(qubo_matrix, p):\n",
    "    num_qubits = qubo_matrix.shape[0]\n",
    "    backend = Aer.get_backend('aer_simulator')\n",
    "\n",
    "    # Define parameters for the QAOA circuit\n",
    "    gamma = [Parameter(f'γ_{i}') for i in range(p)]\n",
    "    beta = [Parameter(f'β_{i}') for i in range(p)]\n",
    "\n",
    "    # Objective function to minimize\n",
    "    def objective_function(params):\n",
    "        gammas = params[:p]\n",
    "        betas = params[p:]\n",
    "        qc = create_qaoa_circuit(num_qubits, p, gammas, betas)\n",
    "        transpiled_qc = transpile(qc,backend)\n",
    "        return expectation_value(transpiled_qc, qubo_matrix,backend)\n",
    "\n",
    "    # Initial guess for gamma and beta\n",
    "    initial_params = np.random.rand(2 * p)\n",
    "\n",
    "    # Minimize the objective function\n",
    "    result = minimize(objective_function, initial_params, method='COBYLA')\n",
    "\n",
    "    return result"
   ]
  },
  {
   "cell_type": "code",
   "execution_count": null,
   "id": "4eae0b3d",
   "metadata": {},
   "outputs": [],
   "source": [
    "# Run QAOA for each test case\n",
    "for name, (weights, capacity) in test_cases.items():\n",
    "    print(f\"\\nTesting {name} Instance:\")\n",
    "    qubo_matrix = ilp_to_qubo(weights, capacity)\n",
    "    p = 1  # Number of layers in QAOA\n",
    "    result = optimize_qaoa(qubo_matrix, p)\n",
    "    print(\"Optimal parameters:\", result.x)\n",
    "    print(\"Minimum value:\", result.fun)"
   ]
  },
  {
   "cell_type": "code",
   "execution_count": null,
   "id": "d7cb4097",
   "metadata": {},
   "outputs": [],
   "source": [
    "# Create a simple quantum circuit\n",
    "simple_qc = QuantumCircuit(1, 1)  # 1 qubit, 1 classical bit\n",
    "simple_qc.h(0)  # Apply Hadamard gate\n",
    "simple_qc.measure(0, 0)  # Measure qubit to classical bit\n",
    "\n",
    "# Set up the backend\n",
    "backend = Aer.get_backend('aer_simulator')\n",
    "\n",
    "# Transpile the circuit for the backend\n",
    "transpiled_qc = transpile(simple_qc, backend)\n",
    "\n",
    "# Run the circuit using the backend\n",
    "job = backend.run(transpiled_qc, shots=1024)  # Run with 1024 shots\n",
    "result = job.result()\n",
    "\n",
    "# Get counts\n",
    "counts = result.get_counts(transpiled_qc)\n",
    "print(\"Counts:\", counts)"
   ]
  },
  {
   "cell_type": "markdown",
   "id": "1637ee96",
   "metadata": {},
   "source": [
    "# Compare results "
   ]
  },
  {
   "cell_type": "markdown",
   "id": "13273ba3",
   "metadata": {},
   "source": [
    "The VQE performed well for to solve the BPP problem as long as we test with several ansatz. For small instance, one ansazt was able to obtain the same solution as the brut force (RealAmplitudes (2 reps)). With this ansazt we have the minimal value for the objective function and the same answer as the brut force. All the other ansazt were not able to find the minimum. For other size the best results is obtained for other ansazt\n",
    "\n",
    "the quantum annealing approach is dependant of the starting point.\n"
   ]
  },
  {
   "cell_type": "markdown",
   "id": "ce231cf5",
   "metadata": {},
   "source": [
    "## benchmark : brut force : \n",
    "small Instance : 3 items \n",
    "\n",
    "2 bins : [0,1] in bin 0 and 2 in bin 1\n",
    "\n",
    "Medium Instance : 5 items\n",
    "\n",
    "2 bins : [0,1,2] in bin 0 and [3,4] in bin 1\n",
    "\n",
    "Large Instance : 7 instances\n",
    "\n",
    "## VQE (Qiskit) : \n",
    "small instance : 3 items\n",
    "\n",
    "2 bins : [0,1] in bin 0 and 2 in bin 1\n",
    "\n",
    "medium instance : 5 items\n",
    "\n",
    "\n",
    "\n"
   ]
  },
  {
   "cell_type": "code",
   "execution_count": null,
   "id": "39cb0621",
   "metadata": {},
   "outputs": [],
   "source": []
  }
 ],
 "metadata": {
  "kernelspec": {
   "display_name": "Python 3 (ipykernel)",
   "language": "python",
   "name": "python3"
  },
  "language_info": {
   "codemirror_mode": {
    "name": "ipython",
    "version": 3
   },
   "file_extension": ".py",
   "mimetype": "text/x-python",
   "name": "python",
   "nbconvert_exporter": "python",
   "pygments_lexer": "ipython3",
   "version": "3.12.7"
  }
 },
 "nbformat": 4,
 "nbformat_minor": 5
}
